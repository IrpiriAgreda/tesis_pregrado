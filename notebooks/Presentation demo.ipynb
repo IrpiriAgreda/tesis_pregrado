{
 "cells": [
  {
   "cell_type": "markdown",
   "metadata": {},
   "source": [
    "# Main imports"
   ]
  },
  {
   "cell_type": "code",
   "execution_count": 1,
   "metadata": {},
   "outputs": [],
   "source": [
    "import torch\n",
    "import torch.nn as nn\n",
    "import torch.nn.functional as F\n",
    "import torch.optim as optim\n",
    "import os\n",
    "import sys\n",
    "import pandas as pd\n",
    "import gym\n",
    "import _pickle as cPickle\n",
    "import city_simulation"
   ]
  },
  {
   "cell_type": "code",
   "execution_count": 2,
   "metadata": {},
   "outputs": [],
   "source": [
    "if 'SUMO_HOME' in os.environ:\n",
    "    tools = os.path.join(os.environ['SUMO_HOME'], 'tools')\n",
    "    sys.path.append(tools)\n",
    "    import traci\n",
    "else:\n",
    "    sys.exit(\"please declare environment variable 'SUMO_HOME'\")"
   ]
  },
  {
   "cell_type": "markdown",
   "metadata": {},
   "source": [
    "# Env setup"
   ]
  },
  {
   "cell_type": "code",
   "execution_count": 3,
   "metadata": {},
   "outputs": [],
   "source": [
    "env = gym.make('city_simulation-v0')"
   ]
  },
  {
   "cell_type": "code",
   "execution_count": 3,
   "metadata": {},
   "outputs": [],
   "source": [
    "sumoCmd = [\"/usr/bin/sumo/bin/sumo-gui\", \"-c\", \"../sumo_simulation/sim_config/osm.sumocfg\"]"
   ]
  },
  {
   "cell_type": "code",
   "execution_count": 5,
   "metadata": {},
   "outputs": [],
   "source": [
    "def runSimulationSteps(self):\n",
    "        '''\n",
    "        This function runs a block of SUMO simulations and returns the emission and\n",
    "        fuel consumption state. The state the agent percieves will be\n",
    "        '''\n",
    "\n",
    "        for i in range(self.steps_in_hour):\n",
    "            #Check if all vehicles have left the simulation\n",
    "            if traci.simulation.getMinExpectedNumber() == 0:\n",
    "                self.done = 1\n",
    "                sim_results = pd.DataFrame.from_dict(traci.lane.getAllSubscriptionResults())\n",
    "                self.state =  self.umap.transform(sim_results.values) #sim_results.values # self.pca.transform(sim_results.values)\n",
    "                traci.close()\n",
    "                collect()\n",
    "                #Returns state means for reward calculation\n",
    "                return sim_results.T.mean()\n",
    "\n",
    "            else:\n",
    "                traci.simulationStep()\n",
    "                traci.gui.screenshot(\"View #0\", \"images/\"+str(i)+\".png\")\n",
    "                collect()\n",
    "\n",
    "        sim_results = pd.DataFrame.from_dict(traci.lane.getAllSubscriptionResults())\n",
    "        self.state = self.umap.transform(sim_results.values) #sim_results.values #self.umap.transform(sim_results.values) self.pca.transform(sim_results.values)\n",
    "        collect()\n",
    "\n",
    "        return sim_results.T.mean()"
   ]
  },
  {
   "cell_type": "markdown",
   "metadata": {},
   "source": [
    "# Pytorch Setup"
   ]
  },
  {
   "cell_type": "code",
   "execution_count": 6,
   "metadata": {},
   "outputs": [],
   "source": [
    "BATCH_SIZE = 32\n",
    "GAMMA = 0.999\n",
    "EPS_START = 0.9\n",
    "EPS_END = 0.05\n",
    "EPS_DECAY = 200\n",
    "TARGET_UPDATE = 10"
   ]
  },
  {
   "cell_type": "code",
   "execution_count": 7,
   "metadata": {},
   "outputs": [],
   "source": [
    "def select_action(state):\n",
    "    global steps_done\n",
    "    sample = random.random()\n",
    "    eps_threshold = EPS_END + (EPS_START - EPS_END) *         math.exp(-1. * steps_done / EPS_DECAY)\n",
    "    steps_done += 1\n",
    "    if sample > eps_threshold:\n",
    "        with torch.no_grad():\n",
    "            # t.max(1) will return largest column value of each row.\n",
    "            # second column on max result is index of where max element was\n",
    "            # found, so we pick action with the larger expected reward.\n",
    "            return policy_net(state.view([-1,12])).cpu().numpy()\n",
    "    else:\n",
    "        return np.random.random(46114)"
   ]
  },
  {
   "cell_type": "code",
   "execution_count": 8,
   "metadata": {},
   "outputs": [],
   "source": [
    "device = torch.device(\"cuda\" if torch.cuda.is_available() else \"cpu\")"
   ]
  },
  {
   "cell_type": "code",
   "execution_count": 9,
   "metadata": {},
   "outputs": [],
   "source": [
    "class DQN(nn.Module):\n",
    "\n",
    "    def __init__(self, outputs):\n",
    "        super(DQN, self).__init__()\n",
    "        self.mlp1 = nn.Linear(12,32)\n",
    "        self.mlp2 = nn.Linear(32,64)\n",
    "        self.mlp3 = nn.Linear(64,128)\n",
    "        self.mlp4 = nn.Linear(128,256)\n",
    "        self.mlp5 = nn.Linear(256,256)\n",
    "        self.head = nn.Linear(256, outputs)\n",
    "\n",
    "    def forward(self, x):\n",
    "        x = F.relu(self.mlp1(x))\n",
    "        x = F.relu(self.mlp2(x))\n",
    "        x = F.relu(self.mlp3(x))\n",
    "        x = F.relu(self.mlp4(x))\n",
    "        x = F.relu(self.mlp5(x))\n",
    "\n",
    "        return self.head(x.view(x.size(0), -1))\n"
   ]
  },
  {
   "cell_type": "code",
   "execution_count": 10,
   "metadata": {},
   "outputs": [],
   "source": [
    "n_actions = 46114"
   ]
  },
  {
   "cell_type": "code",
   "execution_count": 11,
   "metadata": {},
   "outputs": [
    {
     "data": {
      "text/plain": [
       "DQN(\n",
       "  (mlp1): Linear(in_features=12, out_features=32, bias=True)\n",
       "  (mlp2): Linear(in_features=32, out_features=64, bias=True)\n",
       "  (mlp3): Linear(in_features=64, out_features=128, bias=True)\n",
       "  (mlp4): Linear(in_features=128, out_features=256, bias=True)\n",
       "  (mlp5): Linear(in_features=256, out_features=256, bias=True)\n",
       "  (head): Linear(in_features=256, out_features=46114, bias=True)\n",
       ")"
      ]
     },
     "execution_count": 11,
     "metadata": {},
     "output_type": "execute_result"
    }
   ],
   "source": [
    "policy_net = DQN(n_actions).to(device)\n",
    "target_net = DQN(n_actions).to(device)\n",
    "policy_net.load_state_dict(torch.load('output_weights/target/target_net_weights_2019-06-27 09:02:37_ep_11.pt'))\n",
    "target_net.load_state_dict(policy_net.state_dict())\n",
    "target_net.eval()"
   ]
  },
  {
   "cell_type": "markdown",
   "metadata": {},
   "source": [
    "# Main simulation loop for demo"
   ]
  },
  {
   "cell_type": "code",
   "execution_count": 10,
   "metadata": {},
   "outputs": [],
   "source": [
    "env.runSimulationSteps = runSimulationSteps\n",
    "env.sumoCmd = sumoCmd"
   ]
  },
  {
   "cell_type": "code",
   "execution_count": 3,
   "metadata": {},
   "outputs": [],
   "source": [
    "!mkdir images_demo_emissions"
   ]
  },
  {
   "cell_type": "code",
   "execution_count": 4,
   "metadata": {},
   "outputs": [],
   "source": [
    "def simulation_for_demo(img_path):\n",
    "\n",
    "    traci.start(sumoCmd)\n",
    "\n",
    "    i = 0\n",
    "    while traci.simulation.getMinExpectedNumber() > 0:\n",
    "        traci.simulationStep()\n",
    "        if i % 50 == 0:\n",
    "            traci.gui.screenshot(\"View #0\", \"{}/\".format(img_path)+str(i)+\".png\")\n",
    "        i += 1\n",
    "\n",
    "    traci.close()"
   ]
  },
  {
   "cell_type": "markdown",
   "metadata": {},
   "source": [
    "# Generate demo video"
   ]
  },
  {
   "cell_type": "code",
   "execution_count": 7,
   "metadata": {
    "scrolled": true
   },
   "outputs": [
    {
     "name": "stdout",
     "output_type": "stream",
     "text": [
      " Retrying in 1 seconds\n"
     ]
    }
   ],
   "source": [
    "simulation_for_demo('images_demo')"
   ]
  },
  {
   "cell_type": "markdown",
   "metadata": {},
   "source": [
    "# Demo video"
   ]
  },
  {
   "cell_type": "code",
   "execution_count": 8,
   "metadata": {},
   "outputs": [],
   "source": [
    "import imageio"
   ]
  },
  {
   "cell_type": "code",
   "execution_count": 9,
   "metadata": {},
   "outputs": [],
   "source": [
    "with imageio.get_writer('demo_2.gif', mode='I') as writer:\n",
    "    for filename in range(0,7150, 50):\n",
    "        image = imageio.imread('images_demo/{}.png'.format(filename))\n",
    "        writer.append_data(image)"
   ]
  },
  {
   "cell_type": "code",
   "execution_count": 13,
   "metadata": {},
   "outputs": [],
   "source": [
    "with imageio.get_writer('demo.gif', mode='I') as writer:\n",
    "    for filename in range(0,7150, 50):\n",
    "        image = imageio.imread('images_demo_emissions/{}.png'.format(filename))\n",
    "        writer.append_data(image)"
   ]
  },
  {
   "cell_type": "markdown",
   "metadata": {},
   "source": [
    "# Plotly radar charts"
   ]
  },
  {
   "cell_type": "code",
   "execution_count": 11,
   "metadata": {},
   "outputs": [],
   "source": [
    "import plotly\n",
    "import plotly.graph_objs as go\n",
    "from plotly.offline import download_plotlyjs, init_notebook_mode, plot, iplot"
   ]
  },
  {
   "cell_type": "code",
   "execution_count": 24,
   "metadata": {},
   "outputs": [],
   "source": [
    "import numpy as np"
   ]
  },
  {
   "cell_type": "code",
   "execution_count": 12,
   "metadata": {},
   "outputs": [
    {
     "data": {
      "text/html": [
       "        <script type=\"text/javascript\">\n",
       "        window.PlotlyConfig = {MathJaxConfig: 'local'};\n",
       "        if (window.MathJax) {MathJax.Hub.Config({SVG: {font: \"STIX-Web\"}});}\n",
       "        if (typeof require !== 'undefined') {\n",
       "        require.undef(\"plotly\");\n",
       "        requirejs.config({\n",
       "            paths: {\n",
       "                'plotly': ['https://cdn.plot.ly/plotly-latest.min']\n",
       "            }\n",
       "        });\n",
       "        require(['plotly'], function(Plotly) {\n",
       "            window._Plotly = Plotly;\n",
       "        });\n",
       "        }\n",
       "        </script>\n",
       "        "
      ]
     },
     "metadata": {},
     "output_type": "display_data"
    }
   ],
   "source": [
    "init_notebook_mode(connected=True)"
   ]
  },
  {
   "cell_type": "code",
   "execution_count": 29,
   "metadata": {},
   "outputs": [],
   "source": [
    "no_reg = np.random.random(6)\n",
    "current = np.random.random(6)\n",
    "agent = np.random.random(6)"
   ]
  },
  {
   "cell_type": "code",
   "execution_count": 36,
   "metadata": {},
   "outputs": [
    {
     "data": {
      "application/vnd.plotly.v1+json": {
       "config": {
        "linkText": "Export to plot.ly",
        "plotlyServerURL": "https://plot.ly",
        "showLink": false
       },
       "data": [
        {
         "fill": "toself",
         "name": "Sin Regulación",
         "r": [
          0.2949295462422573,
          0.5277565767421033,
          0.5961740609867515,
          0.007151768511300838,
          0.2662270898196001,
          0.33306490820473134
         ],
         "theta": [
          "$CO_2$",
          "$CO$",
          "$PM_x$",
          "$NO_x$",
          "Ruido",
          "Consumo de Gasolina"
         ],
         "type": "scatterpolar",
         "uid": "a83f717e-138b-446b-acfb-227dc7a955ef"
        },
        {
         "fill": "toself",
         "name": "Regulación Actual",
         "r": [
          0.379486719457066,
          0.704245549486782,
          0.8416380107359405,
          0.11182091257335791,
          0.9152892529282781,
          0.5210011758211388
         ],
         "theta": [
          "$CO_2$",
          "$CO$",
          "$PM_x$",
          "$NO_x$",
          "Ruido",
          "Consumo de Gasolina"
         ],
         "type": "scatterpolar",
         "uid": "97599ee7-6228-4b5e-9518-b58e047c02c9"
        },
        {
         "fill": "toself",
         "name": "Regulación Propuesta",
         "r": [
          0.41319038152872234,
          0.63795119492474,
          0.5335479724813992,
          0.5710140850331689,
          0.6833539858873695,
          0.8907257819271991
         ],
         "theta": [
          "$CO_2$",
          "$CO$",
          "$PM_x$",
          "$NO_x$",
          "Ruido",
          "Consumo de Gasolina"
         ],
         "type": "scatterpolar",
         "uid": "86d10c0c-9de7-49bb-a5ed-cab3803e91a6"
        }
       ],
       "layout": {
        "polar": {
         "radialaxis": {
          "range": [
           0,
           1
          ],
          "visible": true
         }
        },
        "showlegend": true
       }
      },
      "text/html": [
       "<div>\n",
       "        \n",
       "        \n",
       "            <div id=\"0898232a-b390-46ec-8aab-53ea6637da39\" class=\"plotly-graph-div\" style=\"height:525px; width:100%;\"></div>\n",
       "            <script type=\"text/javascript\">\n",
       "                require([\"plotly\"], function(Plotly) {\n",
       "                    window.PLOTLYENV=window.PLOTLYENV || {};\n",
       "                    window.PLOTLYENV.BASE_URL='https://plot.ly';\n",
       "                    \n",
       "                if (document.getElementById(\"0898232a-b390-46ec-8aab-53ea6637da39\")) {\n",
       "                    Plotly.newPlot(\n",
       "                        '0898232a-b390-46ec-8aab-53ea6637da39',\n",
       "                        [{\"fill\": \"toself\", \"name\": \"Sin Regulaci\\u00f3n\", \"r\": [0.2949295462422573, 0.5277565767421033, 0.5961740609867515, 0.007151768511300838, 0.2662270898196001, 0.33306490820473134], \"theta\": [\"$CO_2$\", \"$CO$\", \"$PM_x$\", \"$NO_x$\", \"Ruido\", \"Consumo de Gasolina\"], \"type\": \"scatterpolar\", \"uid\": \"a83f717e-138b-446b-acfb-227dc7a955ef\"}, {\"fill\": \"toself\", \"name\": \"Regulaci\\u00f3n Actual\", \"r\": [0.379486719457066, 0.704245549486782, 0.8416380107359405, 0.11182091257335791, 0.9152892529282781, 0.5210011758211388], \"theta\": [\"$CO_2$\", \"$CO$\", \"$PM_x$\", \"$NO_x$\", \"Ruido\", \"Consumo de Gasolina\"], \"type\": \"scatterpolar\", \"uid\": \"97599ee7-6228-4b5e-9518-b58e047c02c9\"}, {\"fill\": \"toself\", \"name\": \"Regulaci\\u00f3n Propuesta\", \"r\": [0.41319038152872234, 0.63795119492474, 0.5335479724813992, 0.5710140850331689, 0.6833539858873695, 0.8907257819271991], \"theta\": [\"$CO_2$\", \"$CO$\", \"$PM_x$\", \"$NO_x$\", \"Ruido\", \"Consumo de Gasolina\"], \"type\": \"scatterpolar\", \"uid\": \"86d10c0c-9de7-49bb-a5ed-cab3803e91a6\"}],\n",
       "                        {\"polar\": {\"radialaxis\": {\"range\": [0, 1], \"visible\": true}}, \"showlegend\": true},\n",
       "                        {\"showLink\": false, \"linkText\": \"Export to plot.ly\", \"plotlyServerURL\": \"https://plot.ly\", \"responsive\": true}\n",
       "                    ).then(function(){\n",
       "                            \n",
       "var gd = document.getElementById('0898232a-b390-46ec-8aab-53ea6637da39');\n",
       "var x = new MutationObserver(function (mutations, observer) {{\n",
       "        var display = window.getComputedStyle(gd).display;\n",
       "        if (!display || display === 'none') {{\n",
       "            console.log([gd, 'removed!']);\n",
       "            Plotly.purge(gd);\n",
       "            observer.disconnect();\n",
       "        }}\n",
       "}});\n",
       "\n",
       "// Listen for the removal of the full notebook cells\n",
       "var notebookContainer = gd.closest('#notebook-container');\n",
       "if (notebookContainer) {{\n",
       "    x.observe(notebookContainer, {childList: true});\n",
       "}}\n",
       "\n",
       "// Listen for the clearing of the current output cell\n",
       "var outputEl = gd.closest('.output');\n",
       "if (outputEl) {{\n",
       "    x.observe(outputEl, {childList: true});\n",
       "}}\n",
       "\n",
       "                        })\n",
       "                };\n",
       "                });\n",
       "            </script>\n",
       "        </div>"
      ]
     },
     "metadata": {},
     "output_type": "display_data"
    }
   ],
   "source": [
    "data = [\n",
    "  go.Scatterpolar(\n",
    "  r = no_reg,\n",
    "  theta = ['$CO_2$','$CO$','$PM_x$', '$NO_x$', 'Ruido', 'Consumo de Gasolina'],\n",
    "  fill = 'toself',\n",
    "  name='Sin Regulación'),\n",
    "    \n",
    "  go.Scatterpolar(\n",
    "  r = current,\n",
    "  theta = ['$CO_2$','$CO$','$PM_x$', '$NO_x$', 'Ruido', 'Consumo de Gasolina'],\n",
    "  fill = 'toself',\n",
    "  name='Regulación Actual'),\n",
    "    \n",
    "  go.Scatterpolar(\n",
    "  r = agent,\n",
    "  theta = ['$CO_2$','$CO$','$PM_x$', '$NO_x$', 'Ruido', 'Consumo de Gasolina'],\n",
    "  fill = 'toself',\n",
    "  name='Regulación Propuesta')\n",
    "\n",
    "]\n",
    "\n",
    "layout = go.Layout(\n",
    "  polar = dict(\n",
    "    radialaxis = dict(\n",
    "      visible = True,\n",
    "      range = [0, 1]\n",
    "    )\n",
    "  ),\n",
    "  showlegend = True\n",
    ")\n",
    "\n",
    "fig = go.Figure(data=data, layout=layout)\n",
    "iplot(fig, filename = \"radar/basic\")"
   ]
  }
 ],
 "metadata": {
  "@webio": {
   "lastCommId": "cc18284f594b43b19af90aa9862f7e38",
   "lastKernelId": "ee095f7a-195c-437b-a523-613ccf1553e1"
  },
  "kernelspec": {
   "display_name": "Python 3",
   "language": "python",
   "name": "python3"
  },
  "language_info": {
   "codemirror_mode": {
    "name": "ipython",
    "version": 3
   },
   "file_extension": ".py",
   "mimetype": "text/x-python",
   "name": "python",
   "nbconvert_exporter": "python",
   "pygments_lexer": "ipython3",
   "version": "3.7.2"
  }
 },
 "nbformat": 4,
 "nbformat_minor": 2
}
