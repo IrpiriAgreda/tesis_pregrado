{
 "cells": [
  {
   "cell_type": "markdown",
   "metadata": {},
   "source": [
    "# Main imports"
   ]
  },
  {
   "cell_type": "code",
   "execution_count": 7,
   "metadata": {},
   "outputs": [],
   "source": [
    "import torch.distributions as td\n",
    "import numpy as np\n",
    "import xml.etree.ElementTree as ET\n",
    "import matplotlib.pyplot as plt\n",
    "import matplotlib.pyplot as plt\n",
    "import os\n",
    "from random import choices\n",
    "from tqdm import tqdm_notebook"
   ]
  },
  {
   "cell_type": "markdown",
   "metadata": {},
   "source": [
    "### Sample according to a chi square distribution with 3 degrees of freedom"
   ]
  },
  {
   "cell_type": "code",
   "execution_count": 8,
   "metadata": {},
   "outputs": [],
   "source": [
    "chi = td.Chi2(3)"
   ]
  },
  {
   "cell_type": "code",
   "execution_count": 9,
   "metadata": {},
   "outputs": [],
   "source": [
    "weights_chi = list(chi.sample((86400,)).numpy())"
   ]
  },
  {
   "cell_type": "code",
   "execution_count": 10,
   "metadata": {},
   "outputs": [
    {
     "data": {
      "application/vnd.jupyter.widget-view+json": {
       "model_id": "316ce626b4a643ff8107ca7a4070c5b5",
       "version_major": 2,
       "version_minor": 0
      },
      "text/plain": [
       "HBox(children=(IntProgress(value=0, max=8017), HTML(value='')))"
      ]
     },
     "metadata": {},
     "output_type": "display_data"
    },
    {
     "name": "stdout",
     "output_type": "stream",
     "text": [
      "\n"
     ]
    }
   ],
   "source": [
    "tree = ET.parse('../sumo_simulation/sim_config/test_cases/chi_squared/osm.truck.trips.xml')\n",
    "root = tree.getroot()\n",
    "\n",
    "t = 0\n",
    "for child in tqdm_notebook(root):\n",
    "    if child.tag == 'trip':\n",
    "        child.set('depart', str(choices(range(86400), k=1, weights=weights_chi)[0])+'.00')\n",
    "        t+=1\n",
    "#print(t)\n",
    "\n",
    "tree.write('../sumo_simulation/sim_config/test_cases/chi_squared/osm.truck.trips.xml')"
   ]
  },
  {
   "cell_type": "markdown",
   "metadata": {},
   "source": [
    "### Sample according to a gaussian distribution"
   ]
  },
  {
   "cell_type": "code",
   "execution_count": 11,
   "metadata": {},
   "outputs": [],
   "source": [
    "gaussian = td.Normal(43200.0, 1)"
   ]
  },
  {
   "cell_type": "code",
   "execution_count": 12,
   "metadata": {},
   "outputs": [],
   "source": [
    "weights_gaussian = gaussian.sample((86400,)).numpy()\n",
    "weights_gaussian = list(weights_gaussian)"
   ]
  },
  {
   "cell_type": "code",
   "execution_count": 14,
   "metadata": {
    "scrolled": true
   },
   "outputs": [
    {
     "data": {
      "application/vnd.jupyter.widget-view+json": {
       "model_id": "a975e5e585db4363b17a5c1ad01d143d",
       "version_major": 2,
       "version_minor": 0
      },
      "text/plain": [
       "HBox(children=(IntProgress(value=0, max=8017), HTML(value='')))"
      ]
     },
     "metadata": {},
     "output_type": "display_data"
    },
    {
     "name": "stdout",
     "output_type": "stream",
     "text": [
      "\n",
      "8010\n"
     ]
    }
   ],
   "source": [
    "tree = ET.parse('../sumo_simulation/sim_config/test_cases/gaussian/osm.truck.trips.xml')\n",
    "root = tree.getroot()\n",
    "\n",
    "t = 0\n",
    "for child in tqdm_notebook(root):\n",
    "    if child.tag == 'trip':\n",
    "        child.set('depart', str(choices(range(86400), k=1, weights=weights_gaussian)[0])+'.00')\n",
    "        t+=1\n",
    "print(t)\n",
    "\n",
    "tree.write('../sumo_simulation/sim_config/test_cases/gaussian/osm.truck.trips.xml')"
   ]
  },
  {
   "cell_type": "markdown",
   "metadata": {},
   "source": [
    "### Sample according to a cauchy distribution"
   ]
  },
  {
   "cell_type": "code",
   "execution_count": 15,
   "metadata": {},
   "outputs": [],
   "source": [
    "cauchy = td.Cauchy(0,0.5)"
   ]
  },
  {
   "cell_type": "code",
   "execution_count": 16,
   "metadata": {},
   "outputs": [],
   "source": [
    "weights_cauchy = list(cauchy.sample((86400,)).numpy())"
   ]
  },
  {
   "cell_type": "code",
   "execution_count": 17,
   "metadata": {},
   "outputs": [
    {
     "data": {
      "application/vnd.jupyter.widget-view+json": {
       "model_id": "1018ba52140d4c0c9c5dca450cf5491a",
       "version_major": 2,
       "version_minor": 0
      },
      "text/plain": [
       "HBox(children=(IntProgress(value=0, max=8017), HTML(value='')))"
      ]
     },
     "metadata": {},
     "output_type": "display_data"
    },
    {
     "name": "stdout",
     "output_type": "stream",
     "text": [
      "\n",
      "8010\n"
     ]
    }
   ],
   "source": [
    "tree = ET.parse('../sumo_simulation/sim_config/test_cases/cauchy/osm.truck.trips.xml')\n",
    "root = tree.getroot()\n",
    "\n",
    "t = 0\n",
    "for child in tqdm_notebook(root):\n",
    "    if child.tag == 'trip':\n",
    "        child.set('depart', str(choices(range(86400), k=1, weights=weights_cauchy)[0])+'.00')\n",
    "        t+=1\n",
    "print(t)\n",
    "\n",
    "tree.write('../sumo_simulation/sim_config/test_cases/cauchy/osm.truck.trips.xml')"
   ]
  },
  {
   "cell_type": "markdown",
   "metadata": {},
   "source": [
    "## Route trips"
   ]
  },
  {
   "cell_type": "code",
   "execution_count": 18,
   "metadata": {},
   "outputs": [],
   "source": [
    "import subprocess"
   ]
  },
  {
   "cell_type": "code",
   "execution_count": 19,
   "metadata": {},
   "outputs": [],
   "source": [
    "def route_trips(path, directory):\n",
    "    os.chdir('/home/andres/Documents/tesis_pregrado/sumo_simulation/sim_config/test_cases/{}/'.format(directory))\n",
    "\n",
    "    subprocess.call(['duarouter', '--trip-files', path, '--net-file', \n",
    "                 'osm.net.xml', '--output-file', 'routes.rou.xml'])"
   ]
  },
  {
   "cell_type": "code",
   "execution_count": 21,
   "metadata": {},
   "outputs": [],
   "source": [
    "def route_trips_passenger(directory):\n",
    "    os.chdir('/home/andres/Documents/tesis_pregrado/sumo_simulation/sim_config/test_cases/{}/'.format(directory))\n",
    "\n",
    "    subprocess.call(['duarouter', '--trip-files', 'osm.passenger.trips.xml', '--net-file', \n",
    "                 'osm.net.xml', '--output-file', 'routes_passenger.rou.xml'])"
   ]
  },
  {
   "cell_type": "code",
   "execution_count": 22,
   "metadata": {},
   "outputs": [],
   "source": [
    "for f in ['cauchy', 'gaussian', 'chi_squared']:\n",
    "    route_trips('osm.truck.trips.xml', f)\n",
    "    route_trips_passenger(f)"
   ]
  },
  {
   "cell_type": "code",
   "execution_count": null,
   "metadata": {},
   "outputs": [],
   "source": []
  }
 ],
 "metadata": {
  "@webio": {
   "lastCommId": "95bda57ab0f94d92ba124d90982395c7",
   "lastKernelId": "de3096c2-79c5-4609-94dc-1517e13b6bd5"
  },
  "kernelspec": {
   "display_name": "Python 3",
   "language": "python",
   "name": "python3"
  },
  "language_info": {
   "codemirror_mode": {
    "name": "ipython",
    "version": 3
   },
   "file_extension": ".py",
   "mimetype": "text/x-python",
   "name": "python",
   "nbconvert_exporter": "python",
   "pygments_lexer": "ipython3",
   "version": "3.7.3"
  }
 },
 "nbformat": 4,
 "nbformat_minor": 2
}
