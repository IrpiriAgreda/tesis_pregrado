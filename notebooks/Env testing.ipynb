{
 "cells": [
  {
   "cell_type": "code",
   "execution_count": 32,
   "metadata": {},
   "outputs": [],
   "source": [
    "import gym\n",
    "import pandas as pd\n",
    "import os, sys\n",
    "import _pickle as cPickle\n",
    "\n",
    "if 'SUMO_HOME' in os.environ:\n",
    "    tools = os.path.join(os.environ['SUMO_HOME'], 'tools')\n",
    "    sys.path.append(tools)\n",
    "else:\n",
    "    sys.exit(\"please declare environment variable 'SUMO_HOME'\")\n",
    "\n",
    "import libsumo as traci\n",
    "\n",
    "class CitySimulation(gym.Env):\n",
    "    metadata = {'render.modes': ['human']}\n",
    "\n",
    "    def __init__(self):\n",
    "        # TODO: determine observation and action spaces for agent\n",
    "        self.state = []\n",
    "        self.done = 0\n",
    "        self.reward = 0\n",
    "        self.sumoCmd = [\"/usr/bin/sumo/bin/sumo\", \"-c\", \"../sumo_simulation/sim_config/osm.sumocfg\"]\n",
    "        self.steps_in_hour = 20\n",
    "        self.iteration_counter = 0 #Count simulation block steps\n",
    "        self.zone_lane_mapper = cPickle.load(open('../sumo_simulation/input/action_to_zone.pkl', 'rb'))\n",
    "        self.fis = cPickle.load(open('../sumo_simulation/input/fis.pkl', 'rb'))\n",
    "        self.action_space = gym.spaces.MultiDiscrete([2 for i in range(len(self.zone_lane_mapper.keys()))])\n",
    "        self.observation_space = gym.spaces.Box(low=0, high=np.infty, shape=(6, len(self.zone_lane_mapper.keys())))\n",
    "\n",
    "    def step(self, action):\n",
    "        '''\n",
    "        Action represents logits from Agent. Probably MultiDescrete input.\n",
    "        Must check if tf-agents outputs 1s and 0s or if a step function is needed.\n",
    "        '''\n",
    "        #Actions need to alter LANE_DISSALLOWED, within zones (need to compute a priori)\n",
    "        #Assuming np.array input\n",
    "        #shape = (n_lanes+1) * 24\n",
    "\n",
    "        self.assignAllowedVehicles(action)\n",
    "        reward_means = self.runSimulationSteps()\n",
    "        self.iteration_counter += 1\n",
    "        reward = self.get_reward(reward_means)\n",
    "\n",
    "        if reward > self.reward:\n",
    "            self.reward += reward\n",
    "        else:\n",
    "            self.reward -= reward\n",
    "\n",
    "        return [self.state, self.reward, self.done, {}]#Fuzzy output for reward\n",
    "\n",
    "    def reset(self):\n",
    "        '''\n",
    "        Generate simulation connection with libsumo.\n",
    "        Creates subscriptions to emission and fuel consumption per lane for performance\n",
    "        '''\n",
    "        traci.start(self.sumoCmd)\n",
    "\n",
    "        for edge_id in traci.lane.getIDList():\n",
    "            traci.lane.subscribe(edge_id, [traci.constants.VAR_CO2EMISSION,\n",
    "                                           traci.constants.VAR_COEMISSION,\n",
    "                                           traci.constants.VAR_PMXEMISSION,\n",
    "                                           traci.constants.VAR_NOXEMISSION,\n",
    "                                           traci.constants.VAR_NOISEEMISSION,\n",
    "                                           traci.constants.VAR_FUELCONSUMPTION])\n",
    "\n",
    "        self.state = []\n",
    "        self.done = 0\n",
    "        self.reward = 0\n",
    "        self.iteration_counter = 0\n",
    "\n",
    "    def render(self):\n",
    "        return self.state\n",
    "\n",
    "    #Helper functions\n",
    "    def assignAllowedVehicles(self, action):\n",
    "        '''\n",
    "        Recieve an action array and alter allowed vehicles per lane selected\n",
    "        Must recieve 1s and 0s in array\n",
    "        '''\n",
    "        lane_indices = np.where(action == 1)[0]\n",
    "        for lane_id in lane_indices:\n",
    "            try:\n",
    "                traci.lane.setDissallowed(lane_id, 'truck')\n",
    "            except:\n",
    "                pass\n",
    "\n",
    "        return 1\n",
    "\n",
    "    def runSimulationSteps(self):\n",
    "        '''\n",
    "        This function runs a block of SUMO simulations and returns the emission and\n",
    "        fuel consumption state. The state the agent percieves will be\n",
    "        '''\n",
    "\n",
    "        for _ in range(self.steps_in_hour):\n",
    "            #Check if all vehicles have left the simulation\n",
    "            if traci.simulation.getMinExpectedNumber() == 0:\n",
    "                self.done = 1\n",
    "                sim_results = pd.DataFrame.from_dict(traci.lane.getAllSubscriptionResults())\n",
    "                self.state = sim_results.values\n",
    "                traci.close()\n",
    "\n",
    "                #Returns state means for reward calculation\n",
    "                return sim_results.T.mean().values\n",
    "\n",
    "            else:\n",
    "                traci.simulationStep()\n",
    "\n",
    "        sim_results = pd.DataFrame.from_dict(traci.lane.getAllSubscriptionResults())\n",
    "        self.state = sim_results.values\n",
    "\n",
    "        if self.iteration_counter == 3:\n",
    "            self.done = 1\n",
    "            traci.close()\n",
    "\n",
    "        return sim_results.T.mean()\n",
    "\n",
    "    def get_reward(self, means):\n",
    "        self.fis.input['co2'] = means[96]\n",
    "        self.fis.input['co'] = means[97]\n",
    "        self.fis.input['pmx'] = means[99]\n",
    "        self.fis.input['nox'] = means[100]\n",
    "        self.fis.input['noise'] = means[101]\n",
    "        self.fis.input['fuel'] = means[102]\n",
    "        self.fis.compute()\n",
    "        return self.fis.output['output']\n"
   ]
  },
  {
   "cell_type": "code",
   "execution_count": 33,
   "metadata": {},
   "outputs": [],
   "source": [
    "cs = CitySimulation()"
   ]
  },
  {
   "cell_type": "code",
   "execution_count": 34,
   "metadata": {},
   "outputs": [],
   "source": [
    "cs.reset()"
   ]
  },
  {
   "cell_type": "code",
   "execution_count": 35,
   "metadata": {},
   "outputs": [],
   "source": [
    "test = cs.action_space.sample()"
   ]
  },
  {
   "cell_type": "code",
   "execution_count": 37,
   "metadata": {},
   "outputs": [
    {
     "data": {
      "text/plain": [
       "[array([[0., 0., 0., ..., 0., 0., 0.],\n",
       "        [0., 0., 0., ..., 0., 0., 0.],\n",
       "        [0., 0., 0., ..., 0., 0., 0.],\n",
       "        [0., 0., 0., ..., 0., 0., 0.],\n",
       "        [0., 0., 0., ..., 0., 0., 0.],\n",
       "        [0., 0., 0., ..., 0., 0., 0.]]), 164.2847288621244, 0, {}]"
      ]
     },
     "execution_count": 37,
     "metadata": {},
     "output_type": "execute_result"
    }
   ],
   "source": [
    "cs.step(test)"
   ]
  },
  {
   "cell_type": "code",
   "execution_count": 38,
   "metadata": {},
   "outputs": [
    {
     "data": {
      "text/plain": [
       "1"
      ]
     },
     "execution_count": 38,
     "metadata": {},
     "output_type": "execute_result"
    }
   ],
   "source": [
    "cs.assignAllowedVehicles(test)"
   ]
  },
  {
   "cell_type": "code",
   "execution_count": null,
   "metadata": {},
   "outputs": [],
   "source": []
  }
 ],
 "metadata": {
  "@webio": {
   "lastCommId": "83fd1e0e934b4869b3c0367d143b130a",
   "lastKernelId": "9845c62b-ae88-4bfb-9813-81f86916c890"
  },
  "kernelspec": {
   "display_name": "Python 3",
   "language": "python",
   "name": "python3"
  },
  "language_info": {
   "codemirror_mode": {
    "name": "ipython",
    "version": 3
   },
   "file_extension": ".py",
   "mimetype": "text/x-python",
   "name": "python",
   "nbconvert_exporter": "python",
   "pygments_lexer": "ipython3",
   "version": "3.7.0"
  }
 },
 "nbformat": 4,
 "nbformat_minor": 2
}
