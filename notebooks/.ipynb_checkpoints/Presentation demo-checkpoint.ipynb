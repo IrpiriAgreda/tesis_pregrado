{
 "cells": [
  {
   "cell_type": "markdown",
   "metadata": {},
   "source": [
    "# Main imports"
   ]
  },
  {
   "cell_type": "code",
   "execution_count": 1,
   "metadata": {},
   "outputs": [],
   "source": [
    "import torch\n",
    "import torch.nn as nn\n",
    "import torch.nn.functional as F\n",
    "import torch.optim as optim\n",
    "import os\n",
    "import sys\n",
    "import pandas as pd\n",
    "import numpy as np\n",
    "import _pickle as cPickle\n",
    "import matplotlib.pyplot as plt"
   ]
  },
  {
   "cell_type": "code",
   "execution_count": 2,
   "metadata": {},
   "outputs": [],
   "source": [
    "if 'SUMO_HOME' in os.environ:\n",
    "    tools = os.path.join(os.environ['SUMO_HOME'], 'tools')\n",
    "    sys.path.append(tools)\n",
    "    import traci\n",
    "else:\n",
    "    sys.exit(\"please declare environment variable 'SUMO_HOME'\")"
   ]
  },
  {
   "cell_type": "code",
   "execution_count": 3,
   "metadata": {},
   "outputs": [],
   "source": [
    "%matplotlib inline"
   ]
  },
  {
   "cell_type": "markdown",
   "metadata": {},
   "source": [
    "# Experiment dict to keep track of file paths"
   ]
  },
  {
   "cell_type": "code",
   "execution_count": 15,
   "metadata": {},
   "outputs": [],
   "source": [
    "experiment_dict_nonday_exps = {\n",
    "    'base': {\n",
    "        'weight_path': './output_weights/km2_centro_test_scenario_0_27082019/policy_net_weights_experiment_ep_2999.pt',\n",
    "        'config': \"../sumo_simulation/sim_config/configs_servidor/km2_centro_env2/scenario/osm.sumocfg\",\n",
    "        'plot_name': 'scenario_0'\n",
    "    },\n",
    "    'case_2x': {\n",
    "        'weight_path': './output_weights/policy/km2_centro_test_scenario_2_27082019/policy_net_weights_experiment_ep_2999.pt',\n",
    "        'config': \"../sumo_simulation/sim_config/configs_servidor/km2_centro_env2/scenario_2/osm.sumocfg\",\n",
    "        'plot_name': 'scenario_2'\n",
    "    },\n",
    "    'case_4x': {\n",
    "        'weight_path': './output_weights/policy/km2_centro_test_scenario_3_27082019/policy_net_weights_experiment_ep_2999.pt',\n",
    "        'config': \"../sumo_simulation/sim_config/configs_servidor/km2_centro_env2/scenario_3/osm.sumocfg\",\n",
    "        'plot_name': 'scenario_3'\n",
    "    },\n",
    "    'case_8x': {\n",
    "        'weight_path': './output_weights/policy/km2_centro_test_scenario_4_27082019/policy_net_weights_experiment_ep_2999.pt',\n",
    "        'config': \"../sumo_simulation/sim_config/configs_servidor/km2_centro_env2/scenario_4/osm.sumocfg\",\n",
    "        'plot_name': 'scenario_4'\n",
    "    }\n",
    "}"
   ]
  },
  {
   "cell_type": "code",
   "execution_count": null,
   "metadata": {},
   "outputs": [],
   "source": [
    "experiment_dict = {\n",
    "    'base': {\n",
    "        'weight_path': './resultados_centro_1mlp/escenario0/policy_net_weights_experiment_ep_2999.pt',\n",
    "        'config': \"../sumo_simulation/sim_config/km2_centro/scenario/osm.sumocfg\",\n",
    "        'plot_name': 'scenario_0'\n",
    "    },\n",
    "    'case_2x': {\n",
    "        'weight_path': './output_weights/policy/km2_centro_test_scenario_2_27082019/policy_net_weights_experiment_ep_2999.pt',\n",
    "        'config': \"../sumo_simulation/sim_config/km2_centro/scenario_2/osm.sumocfg\",\n",
    "        'plot_name': 'scenario_2'\n",
    "    },\n",
    "    'case_4x': {\n",
    "        'weight_path': './output_weights/policy/km2_centro_test_scenario_3_27082019/policy_net_weights_experiment_ep_2999.pt',\n",
    "        'config': \"../sumo_simulation/sim_config/km2_centro/scenario_3/osm.sumocfg\",\n",
    "        'plot_name': 'scenario_3'\n",
    "    },\n",
    "    'case_8x': {\n",
    "        'weight_path': './output_weights/policy/km2_centro_test_scenario_4_27082019/policy_net_weights_experiment_ep_2999.pt',\n",
    "        'config': \"../sumo_simulation/sim_config/configs_servidor/km2_centro_env2/scenario_4/osm.sumocfg\",\n",
    "        'plot_name': 'scenario_4'\n",
    "    }\n",
    "}"
   ]
  },
  {
   "cell_type": "code",
   "execution_count": 5,
   "metadata": {},
   "outputs": [
    {
     "name": "stdout",
     "output_type": "stream",
     "text": [
      "case_8x\n"
     ]
    }
   ],
   "source": [
    "experiment = input()"
   ]
  },
  {
   "cell_type": "markdown",
   "metadata": {},
   "source": [
    "# Pytorch Setup"
   ]
  },
  {
   "cell_type": "code",
   "execution_count": 6,
   "metadata": {},
   "outputs": [],
   "source": [
    "device = torch.device(\"cuda\" if torch.cuda.is_available() else \"cpu\")"
   ]
  },
  {
   "cell_type": "code",
   "execution_count": 7,
   "metadata": {},
   "outputs": [],
   "source": [
    "class DQN(nn.Module):\n",
    "\n",
    "    def __init__(self, outputs):\n",
    "        super(DQN, self).__init__()\n",
    "        self.mlp1 = nn.Linear(6,32)\n",
    "        self.head = nn.Linear(32, outputs)\n",
    "\n",
    "    def forward(self, x):\n",
    "        x = F.relu(self.mlp1(x))\n",
    "        return F.relu(self.head(x.view(x.size(0), -1)))"
   ]
  },
  {
   "cell_type": "code",
   "execution_count": 8,
   "metadata": {},
   "outputs": [],
   "source": [
    "n_actions = 5981"
   ]
  },
  {
   "cell_type": "code",
   "execution_count": 9,
   "metadata": {},
   "outputs": [],
   "source": [
    "policy_net = DQN(n_actions).to(device)"
   ]
  },
  {
   "cell_type": "code",
   "execution_count": 16,
   "metadata": {},
   "outputs": [],
   "source": [
    "#state_dict = torch.load('weights_policy_km_centro/policy_net_weights_experiment_ep_2999.pt')\n",
    "#\n",
    "state_dict = torch.load(experiment_dict[experiment]['weight_path'])"
   ]
  },
  {
   "cell_type": "code",
   "execution_count": 17,
   "metadata": {},
   "outputs": [],
   "source": [
    "state_dict[\"mlp1.weight\"] = state_dict['module.mlp1.weight']\n",
    "state_dict[\"mlp1.bias\"] = state_dict['module.mlp1.bias']\n",
    "state_dict[\"head.weight\"] = state_dict['module.head.weight']\n",
    "state_dict[\"head.bias\"] = state_dict['module.head.bias']\n",
    "\n",
    "del state_dict['module.mlp1.weight'], state_dict['module.mlp1.bias'], state_dict['module.head.weight'], state_dict['module.head.bias']"
   ]
  },
  {
   "cell_type": "code",
   "execution_count": 18,
   "metadata": {},
   "outputs": [],
   "source": [
    "policy_net.load_state_dict(state_dict)"
   ]
  },
  {
   "cell_type": "code",
   "execution_count": 19,
   "metadata": {},
   "outputs": [
    {
     "data": {
      "text/plain": [
       "DQN(\n",
       "  (mlp1): Linear(in_features=6, out_features=32, bias=True)\n",
       "  (head): Linear(in_features=32, out_features=5981, bias=True)\n",
       ")"
      ]
     },
     "execution_count": 19,
     "metadata": {},
     "output_type": "execute_result"
    }
   ],
   "source": [
    "policy_net.eval()"
   ]
  },
  {
   "cell_type": "markdown",
   "metadata": {},
   "source": [
    "# Main simulation loop for demo"
   ]
  },
  {
   "cell_type": "code",
   "execution_count": 20,
   "metadata": {},
   "outputs": [],
   "source": [
    "sumoCmd = [\"/usr/bin/sumo/bin/sumo\", \"-c\", experiment_dict[experiment]['config']]"
   ]
  },
  {
   "cell_type": "markdown",
   "metadata": {},
   "source": [
    "### Determine traci_ep"
   ]
  },
  {
   "cell_type": "code",
   "execution_count": 21,
   "metadata": {},
   "outputs": [
    {
     "name": "stdout",
     "output_type": "stream",
     "text": [
      " Retrying in 1 seconds\n"
     ]
    }
   ],
   "source": [
    "traci.start(sumoCmd)\n",
    "total_steps_1sim = 0\n",
    "\n",
    "while traci.simulation.getMinExpectedNumber() > 0:\n",
    "    traci.simulationStep()\n",
    "    total_steps_1sim += 1\n",
    "traci.close(False)"
   ]
  },
  {
   "cell_type": "markdown",
   "metadata": {},
   "source": [
    "### Run simulation for Agent"
   ]
  },
  {
   "cell_type": "code",
   "execution_count": 22,
   "metadata": {},
   "outputs": [
    {
     "name": "stdout",
     "output_type": "stream",
     "text": [
      " Retrying in 1 seconds\n"
     ]
    }
   ],
   "source": [
    "traci.start(sumoCmd)\n",
    "\n",
    "action_dict = cPickle.load(open('../sumo_simulation/input/action_to_zone_km2_centro.pkl', 'rb'))\n",
    "state = torch.zeros([1,6], device=device)\n",
    "traci_ep = 0\n",
    "lane_id_list = traci.lane.getIDList()\n",
    "\n",
    "states_agent = []\n",
    "truck_emissions_agent = []\n",
    "\n",
    "while traci.simulation.getMinExpectedNumber() > 0:\n",
    "    if traci_ep >= 2 * total_steps_1sim:\n",
    "        break\n",
    "                \n",
    "    if traci_ep % 500 == 0 and traci_ep != 0:\n",
    "                    \n",
    "        #Start agent interaction\n",
    "        action = policy_net(state)\n",
    "                \n",
    "        #Apply regulation and run steps\n",
    "        reg_action = action > 0\n",
    "        \n",
    "        #print(reg_action.view(-1))\n",
    "        \n",
    "        for index, lane_id in enumerate(reg_action.view(-1)):\n",
    "                    #for lane_id in lane_indices:\n",
    "            if lane_id.item() == 1:\n",
    "                if action_dict[index] is not None:\n",
    "                    traci.lane.setDisallowed(action_dict[index], ['truck'])\n",
    "                else:\n",
    "                    pass\n",
    "            else:\n",
    "                if action_dict[index] is not None:\n",
    "                    traci.lane.setAllowed(action_dict[index], ['truck'])\n",
    "                else:\n",
    "                    pass    \n",
    "                \n",
    "        vehicle_id_list = traci.vehicle.getIDList()\n",
    "        vehicle_types = [traci.vehicle.getTypeID(v_id) for v_id in vehicle_id_list]\n",
    "        vehicle_co2 = [traci.vehicle.getCO2Emission(v_id) for i, v_id in enumerate(vehicle_id_list) \n",
    "                                  if 'truck' in vehicle_types[i]]\n",
    "                    \n",
    "        try:\n",
    "            truck_emissions_agent.append(sum(vehicle_co2)/len(vehicle_co2))\n",
    "        except:\n",
    "            truck_emissions_agent.append(0)\n",
    "                    \n",
    "        #Get simulation values\n",
    "        co2 = [traci.lane.getCO2Emission(edge_id) for edge_id in lane_id_list]\n",
    "        co = [traci.lane.getCOEmission(edge_id) for edge_id in lane_id_list]\n",
    "        nox = [traci.lane.getNOxEmission(edge_id) for edge_id in lane_id_list]\n",
    "        pmx = [traci.lane.getPMxEmission(edge_id) for edge_id in lane_id_list]\n",
    "        noise = [traci.lane.getNoiseEmission(edge_id) for edge_id in lane_id_list]\n",
    "        fuel = [traci.lane.getFuelConsumption(edge_id) for edge_id in lane_id_list]\n",
    "\n",
    "        sim_results = np.array([co2, co, pmx, nox, noise, fuel])\n",
    "                    \n",
    "        next_state = np.transpose(sim_results).mean(axis=0)\n",
    "        states_agent.append(next_state)\n",
    "        \n",
    "        next_state = torch.from_numpy(next_state).to(device).float()\n",
    "        \n",
    "        state += next_state\n",
    "    \n",
    "    traci.simulationStep()\n",
    "    traci_ep += 1\n",
    "traci.close(False)"
   ]
  },
  {
   "cell_type": "markdown",
   "metadata": {},
   "source": [
    "### Run simulation for No Reg"
   ]
  },
  {
   "cell_type": "code",
   "execution_count": 23,
   "metadata": {},
   "outputs": [
    {
     "name": "stdout",
     "output_type": "stream",
     "text": [
      " Retrying in 1 seconds\n"
     ]
    }
   ],
   "source": [
    "traci.start(sumoCmd)\n",
    "\n",
    "state = torch.zeros([1,6], device=device)\n",
    "traci_ep = 0\n",
    "lane_id_list = traci.lane.getIDList()\n",
    "\n",
    "for lane_id in lane_id_list:\n",
    "    traci.lane.setAllowed(lane_id, ['truck'])\n",
    "\n",
    "states_noreg = []\n",
    "truck_emissions_noreg = []\n",
    "\n",
    "while traci.simulation.getMinExpectedNumber() > 0:\n",
    "    if traci_ep >= 2 * total_steps_1sim:\n",
    "        break\n",
    "                \n",
    "    if traci_ep % 500 == 0 and traci_ep != 0:\n",
    "        \n",
    "        vehicle_id_list = traci.vehicle.getIDList()\n",
    "        vehicle_types = [traci.vehicle.getTypeID(v_id) for v_id in vehicle_id_list]\n",
    "        vehicle_co2 = [traci.vehicle.getCO2Emission(v_id) for i, v_id in enumerate(vehicle_id_list) \n",
    "                                  if 'truck' in vehicle_types[i]]\n",
    "                    \n",
    "        try:\n",
    "            truck_emissions_noreg.append(sum(vehicle_co2)/len(vehicle_co2))\n",
    "        except:\n",
    "            truck_emissions_noreg.append(0)\n",
    "                    \n",
    "        #Get simulation values\n",
    "        co2 = [traci.lane.getCO2Emission(edge_id) for edge_id in lane_id_list]\n",
    "        co = [traci.lane.getCOEmission(edge_id) for edge_id in lane_id_list]\n",
    "        nox = [traci.lane.getNOxEmission(edge_id) for edge_id in lane_id_list]\n",
    "        pmx = [traci.lane.getPMxEmission(edge_id) for edge_id in lane_id_list]\n",
    "        noise = [traci.lane.getNoiseEmission(edge_id) for edge_id in lane_id_list]\n",
    "        fuel = [traci.lane.getFuelConsumption(edge_id) for edge_id in lane_id_list]\n",
    "\n",
    "        sim_results = np.array([co2, co, pmx, nox, noise, fuel])\n",
    "                    \n",
    "        next_state = np.transpose(sim_results).mean(axis=0)\n",
    "        states_noreg.append(next_state)\n",
    "        \n",
    "        next_state = torch.from_numpy(next_state).to(device).float()\n",
    "        \n",
    "        state += next_state\n",
    "    \n",
    "    traci.simulationStep()\n",
    "    traci_ep += 1\n",
    "traci.close(False)"
   ]
  },
  {
   "cell_type": "markdown",
   "metadata": {},
   "source": [
    "### Run simulation for Actual"
   ]
  },
  {
   "cell_type": "code",
   "execution_count": 24,
   "metadata": {},
   "outputs": [
    {
     "name": "stdout",
     "output_type": "stream",
     "text": [
      " Retrying in 1 seconds\n"
     ]
    }
   ],
   "source": [
    "traci.start(sumoCmd)\n",
    "\n",
    "action_dict = cPickle.load(open('../sumo_simulation/input/action_to_zone_km2_centro.pkl', 'rb'))\n",
    "state = torch.zeros([1,6], device=device)\n",
    "traci_ep = 0\n",
    "lane_id_list = traci.lane.getIDList()\n",
    "\n",
    "states = []\n",
    "truck_emissions_actual = []\n",
    "\n",
    "while traci.simulation.getMinExpectedNumber() > 0:\n",
    "    if traci_ep >= 2 * total_steps_1sim:\n",
    "        break\n",
    "                \n",
    "    if traci_ep % 500 == 0 and traci_ep != 0:\n",
    "        \n",
    "        vehicle_id_list = traci.vehicle.getIDList()\n",
    "        vehicle_types = [traci.vehicle.getTypeID(v_id) for v_id in vehicle_id_list]\n",
    "        vehicle_co2 = [traci.vehicle.getCO2Emission(v_id) for i, v_id in enumerate(vehicle_id_list) \n",
    "                                  if 'truck' in vehicle_types[i]]\n",
    "                    \n",
    "        try:\n",
    "            truck_emissions_actual.append(sum(vehicle_co2)/len(vehicle_co2))\n",
    "        except:\n",
    "            truck_emissions_actual.append(0)\n",
    "                    \n",
    "        #Get simulation values\n",
    "        co2 = [traci.lane.getCO2Emission(edge_id) for edge_id in lane_id_list]\n",
    "        co = [traci.lane.getCOEmission(edge_id) for edge_id in lane_id_list]\n",
    "        nox = [traci.lane.getNOxEmission(edge_id) for edge_id in lane_id_list]\n",
    "        pmx = [traci.lane.getPMxEmission(edge_id) for edge_id in lane_id_list]\n",
    "        noise = [traci.lane.getNoiseEmission(edge_id) for edge_id in lane_id_list]\n",
    "        fuel = [traci.lane.getFuelConsumption(edge_id) for edge_id in lane_id_list]\n",
    "\n",
    "        sim_results = np.array([co2, co, pmx, nox, noise, fuel])\n",
    "                    \n",
    "        next_state = np.transpose(sim_results).mean(axis=0)\n",
    "        states.append(next_state)\n",
    "        \n",
    "        next_state = torch.from_numpy(next_state).to(device).float()\n",
    "        \n",
    "        state += next_state\n",
    "    \n",
    "    traci.simulationStep()\n",
    "    traci_ep += 1\n",
    "traci.close(False)"
   ]
  },
  {
   "cell_type": "code",
   "execution_count": 25,
   "metadata": {},
   "outputs": [
    {
     "data": {
      "text/plain": [
       "[1240.1827231844038,\n",
       " 1255.7994521485903,\n",
       " 1281.130987966129,\n",
       " 1248.7010819722343,\n",
       " 1285.9877165582532,\n",
       " 1251.6136060870006,\n",
       " 1243.7381815549886,\n",
       " 1276.2207873293287,\n",
       " 1247.0079683662675,\n",
       " 1279.0848366629787,\n",
       " 1257.49707445084,\n",
       " 1257.1815172929507,\n",
       " 1282.9344318892815,\n",
       " 1248.3772013613416,\n",
       " 1266.1786581262136,\n",
       " 1244.0133377363939,\n",
       " 1263.766344243704,\n",
       " 1261.0696124585713,\n",
       " 1259.9208286212167,\n",
       " 1231.6630892732999,\n",
       " 1234.762593230305,\n",
       " 1283.5246521773042,\n",
       " 1255.3316721997835,\n",
       " 1272.2990369043632,\n",
       " 1245.8353031516372,\n",
       " 1254.6708054357812,\n",
       " 1272.4910861602975,\n",
       " 1274.9907361214694,\n",
       " 1272.2660916272998,\n",
       " 1275.4675539886568,\n",
       " 1260.7871934087502,\n",
       " 1258.8017352019313,\n",
       " 1263.4148438155105,\n",
       " 1290.746884871515,\n",
       " 1267.5146523938977,\n",
       " 1276.514465426286,\n",
       " 1276.311226193312,\n",
       " 1244.49510372918,\n",
       " 1280.2450204704314,\n",
       " 1250.4551060213187,\n",
       " 1291.9605777700415,\n",
       " 1230.238391627986,\n",
       " 1255.8093659849283,\n",
       " 1252.9308957951366,\n",
       " 1278.7180713128075,\n",
       " 1268.3716134380795,\n",
       " 1215.5923710625211,\n",
       " 1271.206467359713,\n",
       " 1232.3225981519688,\n",
       " 1288.511303930928,\n",
       " 1262.1021921918725,\n",
       " 1293.042004228371,\n",
       " 1248.9306748095973,\n",
       " 1279.2920669171083,\n",
       " 1272.9918203780153,\n",
       " 1274.9815826701329,\n",
       " 1235.0450992472722,\n",
       " 1290.3512330299523,\n",
       " 1285.2577712463874,\n",
       " 1237.9888006667654,\n",
       " 1326.0143679582961,\n",
       " 1297.3431014671908,\n",
       " 1222.8495006004762,\n",
       " 1282.215993534355,\n",
       " 1320.3748752454314,\n",
       " 1371.2234577061995,\n",
       " 1348.911730057026,\n",
       " 1390.680317797388,\n",
       " 1819.821184431132,\n",
       " 916.1527597892236]"
      ]
     },
     "execution_count": 25,
     "metadata": {},
     "output_type": "execute_result"
    }
   ],
   "source": [
    "truck_emissions_actual"
   ]
  },
  {
   "cell_type": "code",
   "execution_count": 26,
   "metadata": {},
   "outputs": [
    {
     "data": {
      "text/plain": [
       "[1532.8688823197122,\n",
       " 1460.4903307094,\n",
       " 1268.105563609582,\n",
       " 1306.2198126696587,\n",
       " 1304.686603096175,\n",
       " 1289.8336726492244,\n",
       " 1273.201092661452,\n",
       " 1275.1722531925748,\n",
       " 1268.698246705536,\n",
       " 1286.2256720733642,\n",
       " 1277.5024749776828,\n",
       " 1253.657569159839,\n",
       " 1304.5665365338273,\n",
       " 1278.0325672354475,\n",
       " 1263.1484727240595,\n",
       " 1291.601490575067,\n",
       " 1264.9495228282533,\n",
       " 1262.5667038221804,\n",
       " 1247.2377173748594,\n",
       " 1300.3720075470128,\n",
       " 1259.545633988123,\n",
       " 1257.8091868711451,\n",
       " 1407.5044344270052,\n",
       " 2204.928587966679]"
      ]
     },
     "execution_count": 26,
     "metadata": {},
     "output_type": "execute_result"
    }
   ],
   "source": [
    "truck_emissions_noreg"
   ]
  },
  {
   "cell_type": "code",
   "execution_count": 27,
   "metadata": {},
   "outputs": [
    {
     "data": {
      "text/plain": [
       "[1240.1827231844038,\n",
       " 1277.3851863502816,\n",
       " 1313.9470042165376,\n",
       " 1284.0981834913453,\n",
       " 1294.1626827305183,\n",
       " 1229.0933079377708,\n",
       " 1274.2374063649245,\n",
       " 1259.8368833132758,\n",
       " 1260.4999367964663,\n",
       " 1272.2149546402577,\n",
       " 1275.0084959936496,\n",
       " 1282.3619429215767,\n",
       " 1264.9695988182866,\n",
       " 1263.0051738049453,\n",
       " 1297.8087788004743,\n",
       " 1250.8561298635705,\n",
       " 1275.997165766223,\n",
       " 1253.8953679038807,\n",
       " 1294.864762879399,\n",
       " 1291.286293128613,\n",
       " 1309.2569974696085,\n",
       " 1331.1497639538634,\n",
       " 1231.6280103571603,\n",
       " 1313.3502153595957,\n",
       " 1278.565377239708,\n",
       " 1293.1654385598217,\n",
       " 1279.3693186933483,\n",
       " 1297.360145651572,\n",
       " 1349.3574692770012,\n",
       " 1311.6953758348964,\n",
       " 1590.1801881243966,\n",
       " 1745.598393149754]"
      ]
     },
     "execution_count": 27,
     "metadata": {},
     "output_type": "execute_result"
    }
   ],
   "source": [
    "truck_emissions_agent"
   ]
  },
  {
   "cell_type": "code",
   "execution_count": 28,
   "metadata": {},
   "outputs": [
    {
     "data": {
      "image/png": "[encoded data removed]",
      "text/plain": [
       "<Figure size 432x288 with 1 Axes>"
      ]
     },
     "metadata": {
      "needs_background": "light"
     },
     "output_type": "display_data"
    }
   ],
   "source": [
    "plt.plot(truck_emissions_actual, label='Regulación Actual')\n",
    "plt.plot(truck_emissions_noreg, label='Sin Regulación')\n",
    "plt.plot(truck_emissions_agent, label='Regulación Propuesta')\n",
    "plt.legend()\n",
    "plt.title('$CO_2$ emitido por camiones de carga')\n",
    "#plt.xlabel('Bloques de simulación (500 it)')\n",
    "plt.xlabel('Hora del día (0 = 6am)')\n",
    "plt.ylabel('Total (mg/s)')\n",
    "plt.savefig('plots/co2_centro_{}.png'.format(experiment_dict[experiment]['plot_name']), dpi=300)\n",
    "plt.show()"
   ]
  },
  {
   "cell_type": "code",
   "execution_count": 29,
   "metadata": {},
   "outputs": [],
   "source": [
    "states_agent = np.array(states_agent)\n",
    "states_noreg = np.array(states_noreg)\n",
    "states = np.array(states)"
   ]
  },
  {
   "cell_type": "code",
   "execution_count": 30,
   "metadata": {},
   "outputs": [],
   "source": [
    "values = [policy_net(torch.from_numpy(state).float().to(device).view(-1,6)) for state in states_agent]\n",
    "values = torch.cat(values).view(-1).detach().cpu().numpy()"
   ]
  },
  {
   "cell_type": "code",
   "execution_count": 31,
   "metadata": {},
   "outputs": [
    {
     "data": {
      "text/plain": [
       "(array([1.91362e+05, 3.00000e+01]),\n",
       " array([0.       , 3.4588087, 6.9176173], dtype=float32),\n",
       " <a list of 2 Patch objects>)"
      ]
     },
     "execution_count": 31,
     "metadata": {},
     "output_type": "execute_result"
    },
    {
     "data": {
      "image/png": "[encoded data removed]",
      "text/plain": [
       "<Figure size 432x288 with 1 Axes>"
      ]
     },
     "metadata": {
      "needs_background": "light"
     },
     "output_type": "display_data"
    }
   ],
   "source": [
    "plt.hist(values, 2)"
   ]
  },
  {
   "cell_type": "code",
   "execution_count": 32,
   "metadata": {},
   "outputs": [
    {
     "data": {
      "image/png": "[encoded data removed]",
      "text/plain": [
       "<Figure size 1440x720 with 6 Axes>"
      ]
     },
     "metadata": {
      "needs_background": "light"
     },
     "output_type": "display_data"
    }
   ],
   "source": [
    "fig, axs = plt.subplots(2, 3, figsize=(20,10))\n",
    "axs[0,0].plot(range(len(truck_emissions_actual)),states[:,0], label='Regulacion Actual')\n",
    "axs[0,0].plot(range(len(truck_emissions_noreg)),states_noreg[:,0], label='Sin Regulación')\n",
    "axs[0,0].plot(range(len(truck_emissions_agent)),states_agent[:,0], label='Regulacion Propuesta')\n",
    "axs[0,0].title.set_text('Emisiones totales de $CO_{2}$')\n",
    "axs[0,0].set_xlabel('Hora del día (0 = 6am)')\n",
    "axs[0,0].set_ylabel('Promedio (mg/s)')\n",
    "\n",
    "axs[0,1].plot(range(len(truck_emissions_actual)),states[:,1], label='Regulacion Actual')\n",
    "axs[0,1].plot(range(len(truck_emissions_noreg)),states_noreg[:,1], label='Sin Regulación')\n",
    "axs[0,1].plot(range(len(truck_emissions_agent)),states_agent[:,1], label='Regulacion Propuesta')\n",
    "axs[0,1].title.set_text('Emisiones totales de $CO$')\n",
    "axs[0,1].set_xlabel('Hora del día (0 = 6am)')\n",
    "axs[0,1].set_ylabel('Promedio (mg/s)')\n",
    "\n",
    "axs[0,2].plot(range(len(truck_emissions_actual)),states[:,2], label='Regulacion Actual')\n",
    "axs[0,2].plot(range(len(truck_emissions_noreg)),states_noreg[:,2], label='Sin Regulación')\n",
    "axs[0,2].plot(range(len(truck_emissions_agent)),states_agent[:,2], label='Regulacion Propuesta')\n",
    "axs[0,2].title.set_text('Emisiones totales de $NO_{x}$')\n",
    "axs[0,2].set_xlabel('Hora del día (0 = 6am)')\n",
    "axs[0,2].set_ylabel('Promedio (mg/s)')\n",
    "\n",
    "axs[1,0].plot(range(len(truck_emissions_actual)),states[:,3], label='Regulacion Actual')\n",
    "axs[1,0].plot(range(len(truck_emissions_noreg)),states_noreg[:,3], label='Sin Regulación')\n",
    "axs[1,0].plot(range(len(truck_emissions_agent)),states_agent[:,3], label='Regulacion Propuesta')\n",
    "axs[1,0].title.set_text('Emisiones totales de $PM_{x}$')\n",
    "axs[1,0].set_xlabel('Hora del día (0 = 6am)')\n",
    "axs[1,0].set_ylabel('Promedio (mg/s)')\n",
    "\n",
    "axs[1,1].plot(range(len(truck_emissions_actual)),states[:,4], label='Regulacion Actual')\n",
    "axs[1,1].plot(range(len(truck_emissions_noreg)),states_noreg[:,4], label='Sin Regulación')\n",
    "axs[1,1].plot(range(len(truck_emissions_agent)),states_agent[:,4], label='Regulacion Propuesta')\n",
    "axs[1,1].title.set_text('Emisiones totales de Ruido')\n",
    "axs[1,1].set_xlabel('Hora del día (0 = 6am)')\n",
    "axs[1,1].set_ylabel('Promedio (db/s)')\n",
    "\n",
    "axs[1,2].plot(range(len(truck_emissions_actual)),states[:,5], label='Regulacion Actual')\n",
    "axs[1,2].plot(range(len(truck_emissions_noreg)),states_noreg[:,5], label='Sin Regulación')\n",
    "axs[1,2].plot(range(len(truck_emissions_agent)),states_agent[:,5], label='Regulacion Propuesta')\n",
    "axs[1,2].title.set_text('Consumo total de gasolina')\n",
    "axs[1,2].set_xlabel('Hora del día (0 = 6am)')\n",
    "axs[1,2].set_ylabel('Promedio (ml/s)')\n",
    "\n",
    "plt.legend()\n",
    "plt.savefig('plots/resultados_centro_{}.png'.format(experiment_dict[experiment]['plot_name']), dpi=300)\n",
    "plt.tight_layout()\n",
    "plt.show()"
   ]
  },
  {
   "cell_type": "code",
   "execution_count": 33,
   "metadata": {},
   "outputs": [],
   "source": [
    "actions = [policy_net(torch.from_numpy(state).view(1,-1).float().cuda()) for state in states_agent]"
   ]
  },
  {
   "cell_type": "code",
   "execution_count": 34,
   "metadata": {},
   "outputs": [],
   "source": [
    "total_reg_lanes = [(action > 0).sum().item() for action in actions]"
   ]
  },
  {
   "cell_type": "code",
   "execution_count": 35,
   "metadata": {},
   "outputs": [
    {
     "data": {
      "image/png": "[encoded data removed]",
      "text/plain": [
       "<Figure size 432x288 with 1 Axes>"
      ]
     },
     "metadata": {
      "needs_background": "light"
     },
     "output_type": "display_data"
    }
   ],
   "source": [
    "plt.plot(total_reg_lanes)\n",
    "plt.xlabel(\"Hora del día (0 = 6am)\")\n",
    "plt.ylabel(\"N° de carriles\")\n",
    "plt.title('Total de carriles regulados por hora')\n",
    "plt.savefig('plots/total_lanes_reg_{}.png'.format(experiment_dict[experiment]['plot_name']))\n",
    "plt.show()"
   ]
  },
  {
   "cell_type": "markdown",
   "metadata": {},
   "source": [
    "!mkdir images_demo_emissions\n",
    "\n",
    "traci.start([\"/usr/bin/sumo/bin/sumo-gui\", \"-c\", \n",
    "                           \"../sumo_simulation/sim_config/km2_centro/scenario/osm.sumocfg\"])\n",
    "\n",
    "#i = 0\n",
    "for i in range(7):\n",
    "    traci.simulationStep(500)\n",
    "        #if i % 50 == 0:\n",
    "            #traci.gui.screenshot(\"View #0\", \"{}/\".format(img_path)+str(i)+\".png\")\n",
    "    #i += 1\n",
    "\n",
    "traci.close(False)"
   ]
  },
  {
   "cell_type": "markdown",
   "metadata": {},
   "source": [
    "# Generate demo video"
   ]
  },
  {
   "cell_type": "markdown",
   "metadata": {},
   "source": [
    "simulation_for_demo('images_demo')"
   ]
  },
  {
   "cell_type": "markdown",
   "metadata": {},
   "source": [
    "# Demo video"
   ]
  },
  {
   "cell_type": "markdown",
   "metadata": {},
   "source": [
    "import imageio"
   ]
  },
  {
   "cell_type": "markdown",
   "metadata": {},
   "source": [
    "with imageio.get_writer('demo_2.gif', mode='I') as writer:\n",
    "    for filename in range(0,7150, 50):\n",
    "        image = imageio.imread('images_demo/{}.png'.format(filename))\n",
    "        writer.append_data(image)"
   ]
  },
  {
   "cell_type": "markdown",
   "metadata": {},
   "source": [
    "with imageio.get_writer('demo.gif', mode='I') as writer:\n",
    "    for filename in range(0,7150, 50):\n",
    "        image = imageio.imread('images_demo_emissions/{}.png'.format(filename))\n",
    "        writer.append_data(image)"
   ]
  },
  {
   "cell_type": "markdown",
   "metadata": {},
   "source": [
    "# Plotly radar charts"
   ]
  },
  {
   "cell_type": "code",
   "execution_count": 36,
   "metadata": {},
   "outputs": [],
   "source": [
    "import plotly\n",
    "import plotly.graph_objs as go\n",
    "from plotly.offline import download_plotlyjs, init_notebook_mode, plot, iplot"
   ]
  },
  {
   "cell_type": "code",
   "execution_count": 37,
   "metadata": {},
   "outputs": [],
   "source": [
    "import numpy as np"
   ]
  },
  {
   "cell_type": "code",
   "execution_count": 38,
   "metadata": {},
   "outputs": [
    {
     "data": {
      "text/html": [
       "        <script type=\"text/javascript\">\n",
       "        window.PlotlyConfig = {MathJaxConfig: 'local'};\n",
       "        if (window.MathJax) {MathJax.Hub.Config({SVG: {font: \"STIX-Web\"}});}\n",
       "        if (typeof require !== 'undefined') {\n",
       "        require.undef(\"plotly\");\n",
       "        requirejs.config({\n",
       "            paths: {\n",
       "                'plotly': ['https://cdn.plot.ly/plotly-latest.min']\n",
       "            }\n",
       "        });\n",
       "        require(['plotly'], function(Plotly) {\n",
       "            window._Plotly = Plotly;\n",
       "        });\n",
       "        }\n",
       "        </script>\n",
       "        "
      ]
     },
     "metadata": {},
     "output_type": "display_data"
    }
   ],
   "source": [
    "init_notebook_mode(connected=True)"
   ]
  },
  {
   "cell_type": "code",
   "execution_count": 39,
   "metadata": {},
   "outputs": [],
   "source": [
    "acum = np.vstack([states_noreg.sum(axis=0), states.sum(axis=0), states_agent.sum(axis=0)])"
   ]
  },
  {
   "cell_type": "code",
   "execution_count": 40,
   "metadata": {},
   "outputs": [],
   "source": [
    "n_acum = acum / acum.max(axis=0)"
   ]
  },
  {
   "cell_type": "code",
   "execution_count": 41,
   "metadata": {},
   "outputs": [
    {
     "data": {
      "application/vnd.plotly.v1+json": {
       "config": {
        "linkText": "Export to plot.ly",
        "plotlyServerURL": "https://plot.ly",
        "showLink": false
       },
       "data": [
        {
         "fill": "toself",
         "name": "Sin Regulación",
         "r": [
          0.06654151076760233,
          0.13145779489616707,
          0.06401276640156014,
          0.007295811679429287,
          0.15641314378277135,
          0.0666864015741966
         ],
         "theta": [
          "$CO_2$",
          "$CO$",
          "$PM_x$",
          "$NO_x$",
          "Ruido",
          "Consumo de Gasolina"
         ],
         "type": "scatterpolar",
         "uid": "66207344-4ce7-4168-86c8-9dd1a8c4366c"
        },
        {
         "fill": "toself",
         "name": "Regulación Actual",
         "r": [
          1,
          1,
          1,
          1,
          1,
          1
         ],
         "theta": [
          "$CO_2$",
          "$CO$",
          "$PM_x$",
          "$NO_x$",
          "Ruido",
          "Consumo de Gasolina"
         ],
         "type": "scatterpolar",
         "uid": "77130f43-3753-4139-9f49-e593b5a7d078"
        },
        {
         "fill": "toself",
         "name": "Regulación Propuesta",
         "r": [
          0.17000674514890038,
          0.29200879688904346,
          0.18068139144770465,
          0.08332237270131156,
          0.294106224803396,
          0.1702234843833827
         ],
         "theta": [
          "$CO_2$",
          "$CO$",
          "$PM_x$",
          "$NO_x$",
          "Ruido",
          "Consumo de Gasolina"
         ],
         "type": "scatterpolar",
         "uid": "40a2ade0-6606-4ea9-b7e3-0b6c79b49529"
        }
       ],
       "layout": {
        "polar": {
         "radialaxis": {
          "range": [
           0,
           1
          ],
          "visible": true
         }
        },
        "showlegend": true,
        "title": {
         "text": "Diagrama de radar para el escenario 4",
         "x": 0,
         "xref": "paper"
        }
       }
      },
      "text/html": [
       "<div>\n",
       "        \n",
       "        \n",
       "            <div id=\"a4a6e0f3-ce27-4194-9639-7c0cb8b13270\" class=\"plotly-graph-div\" style=\"height:525px; width:100%;\"></div>\n",
       "            <script type=\"text/javascript\">\n",
       "                require([\"plotly\"], function(Plotly) {\n",
       "                    window.PLOTLYENV=window.PLOTLYENV || {};\n",
       "                    window.PLOTLYENV.BASE_URL='https://plot.ly';\n",
       "                    \n",
       "                if (document.getElementById(\"a4a6e0f3-ce27-4194-9639-7c0cb8b13270\")) {\n",
       "                    Plotly.newPlot(\n",
       "                        'a4a6e0f3-ce27-4194-9639-7c0cb8b13270',\n",
       "                        [{\"fill\": \"toself\", \"name\": \"Sin Regulaci\\u00f3n\", \"r\": [0.06654151076760233, 0.13145779489616707, 0.06401276640156014, 0.007295811679429287, 0.15641314378277135, 0.0666864015741966], \"theta\": [\"$CO_2$\", \"$CO$\", \"$PM_x$\", \"$NO_x$\", \"Ruido\", \"Consumo de Gasolina\"], \"type\": \"scatterpolar\", \"uid\": \"66207344-4ce7-4168-86c8-9dd1a8c4366c\"}, {\"fill\": \"toself\", \"name\": \"Regulaci\\u00f3n Actual\", \"r\": [1.0, 1.0, 1.0, 1.0, 1.0, 1.0], \"theta\": [\"$CO_2$\", \"$CO$\", \"$PM_x$\", \"$NO_x$\", \"Ruido\", \"Consumo de Gasolina\"], \"type\": \"scatterpolar\", \"uid\": \"77130f43-3753-4139-9f49-e593b5a7d078\"}, {\"fill\": \"toself\", \"name\": \"Regulaci\\u00f3n Propuesta\", \"r\": [0.17000674514890038, 0.29200879688904346, 0.18068139144770465, 0.08332237270131156, 0.294106224803396, 0.1702234843833827], \"theta\": [\"$CO_2$\", \"$CO$\", \"$PM_x$\", \"$NO_x$\", \"Ruido\", \"Consumo de Gasolina\"], \"type\": \"scatterpolar\", \"uid\": \"40a2ade0-6606-4ea9-b7e3-0b6c79b49529\"}],\n",
       "                        {\"polar\": {\"radialaxis\": {\"range\": [0, 1], \"visible\": true}}, \"showlegend\": true, \"title\": {\"text\": \"Diagrama de radar para el escenario 4\", \"x\": 0, \"xref\": \"paper\"}},\n",
       "                        {\"showLink\": false, \"linkText\": \"Export to plot.ly\", \"plotlyServerURL\": \"https://plot.ly\", \"responsive\": true}\n",
       "                    ).then(function(){\n",
       "                            \n",
       "var gd = document.getElementById('a4a6e0f3-ce27-4194-9639-7c0cb8b13270');\n",
       "var x = new MutationObserver(function (mutations, observer) {{\n",
       "        var display = window.getComputedStyle(gd).display;\n",
       "        if (!display || display === 'none') {{\n",
       "            console.log([gd, 'removed!']);\n",
       "            Plotly.purge(gd);\n",
       "            observer.disconnect();\n",
       "        }}\n",
       "}});\n",
       "\n",
       "// Listen for the removal of the full notebook cells\n",
       "var notebookContainer = gd.closest('#notebook-container');\n",
       "if (notebookContainer) {{\n",
       "    x.observe(notebookContainer, {childList: true});\n",
       "}}\n",
       "\n",
       "// Listen for the clearing of the current output cell\n",
       "var outputEl = gd.closest('.output');\n",
       "if (outputEl) {{\n",
       "    x.observe(outputEl, {childList: true});\n",
       "}}\n",
       "\n",
       "                        })\n",
       "                };\n",
       "                });\n",
       "            </script>\n",
       "        </div>"
      ]
     },
     "metadata": {},
     "output_type": "display_data"
    }
   ],
   "source": [
    "data = [\n",
    "  go.Scatterpolar(\n",
    "  r = n_acum[0,:],\n",
    "  theta = ['$CO_2$','$CO$','$PM_x$', '$NO_x$', 'Ruido', 'Consumo de Gasolina'],\n",
    "  fill = 'toself',\n",
    "  name='Sin Regulación'),\n",
    "    \n",
    "  go.Scatterpolar(\n",
    "  r = n_acum[1,:],\n",
    "  theta = ['$CO_2$','$CO$','$PM_x$', '$NO_x$', 'Ruido', 'Consumo de Gasolina'],\n",
    "  fill = 'toself',\n",
    "  name='Regulación Actual'),\n",
    "    \n",
    "  go.Scatterpolar(\n",
    "  r = n_acum[2,:],\n",
    "  theta = ['$CO_2$','$CO$','$PM_x$', '$NO_x$', 'Ruido', 'Consumo de Gasolina'],\n",
    "  fill = 'toself',\n",
    "  name='Regulación Propuesta')\n",
    "\n",
    "]\n",
    "\n",
    "layout = go.Layout(\n",
    "  polar = dict(\n",
    "    radialaxis = dict(\n",
    "      visible = True,\n",
    "      range = [0, 1]\n",
    "    )\n",
    "  ),\n",
    "  showlegend = True,\n",
    "    title=go.layout.Title(\n",
    "        text=\"Diagrama de radar para el escenario {}\".format(experiment_dict[experiment]['plot_name'][-1]),\n",
    "        xref=\"paper\",\n",
    "        x=0\n",
    "    )\n",
    ")\n",
    "\n",
    "fig = go.Figure(data=data, layout=layout)\n",
    "iplot(fig, filename = \"radar/basic\")\n",
    "fig.write_image('plots/radar_centro_{}.png'.format(experiment_dict[experiment]['plot_name']))"
   ]
  },
  {
   "cell_type": "markdown",
   "metadata": {},
   "source": [
    "# Generate Lane Plot assignment"
   ]
  },
  {
   "cell_type": "code",
   "execution_count": null,
   "metadata": {},
   "outputs": [],
   "source": [
    "lane_df = pd.read_csv('lane_df.csv')"
   ]
  },
  {
   "cell_type": "code",
   "execution_count": null,
   "metadata": {},
   "outputs": [],
   "source": [
    "actions[0].view(-1)"
   ]
  },
  {
   "cell_type": "code",
   "execution_count": null,
   "metadata": {},
   "outputs": [],
   "source": [
    "for i, timestep in enumerate(actions):\n",
    "    lane_df['selected_{}_ts_{}'.format(experiment_dict[experiment]['plot_name'], i)] = 0\n",
    "    for index, item in enumerate(timestep.view(-1) > 0):\n",
    "        if item == 1:\n",
    "            #print()\n",
    "            lane_df.loc[lane_df[lane_df['action_id'] == index].index, 'selected_{}_ts_{}'.format(experiment_dict[experiment]['plot_name'], i)] = 1"
   ]
  },
  {
   "cell_type": "code",
   "execution_count": null,
   "metadata": {},
   "outputs": [],
   "source": [
    "if 'Unnamed: 0' in lane_df.keys():\n",
    "    del lane_df['Unnamed: 0']\n",
    "\n",
    "lane_df.to_csv('lane_df.csv', index=False)"
   ]
  },
  {
   "cell_type": "markdown",
   "metadata": {},
   "source": [
    "#### Test traci time variable"
   ]
  },
  {
   "cell_type": "markdown",
   "metadata": {},
   "source": [
    "sumoCmd = ['/usr/bin/sumo/bin/sumo',\n",
    " '-c',\n",
    " '../sumo_simulation/sim_config/km2_centro/scenario_3/osm.sumocfg',\n",
    " '-e', '86400']"
   ]
  },
  {
   "cell_type": "markdown",
   "metadata": {},
   "source": [
    "traci.start(sumoCmd)\n",
    "\n",
    "te = []\n",
    "\n",
    "for i in range(86400):\n",
    "    \n",
    "    if i % 3600 == 0:\n",
    "\n",
    "        vehicle_id_list = traci.vehicle.getIDList()\n",
    "        vehicle_types = [traci.vehicle.getTypeID(v_id) for v_id in vehicle_id_list]\n",
    "        vehicle_co2 = [traci.vehicle.getCO2Emission(v_id) for i, v_id in enumerate(vehicle_id_list) \n",
    "                                      if 'truck' in vehicle_types[i]]\n",
    "\n",
    "        try:\n",
    "            te.append(sum(vehicle_co2)/len(vehicle_co2))\n",
    "        except:\n",
    "            te.append(0)\n",
    "    \n",
    "    traci.simulationStep()\n",
    "\n",
    "traci.close(False)"
   ]
  },
  {
   "cell_type": "markdown",
   "metadata": {},
   "source": [
    "plt.plot(te)"
   ]
  },
  {
   "cell_type": "code",
   "execution_count": null,
   "metadata": {},
   "outputs": [],
   "source": []
  }
 ],
 "metadata": {
  "@webio": {
   "lastCommId": "9f889d158f1f471d88ae9c246e8f385a",
   "lastKernelId": "32c0dea5-c865-44c2-b8f7-51546d3c76b8"
  },
  "kernelspec": {
   "display_name": "Python 3",
   "language": "python",
   "name": "python3"
  },
  "language_info": {
   "codemirror_mode": {
    "name": "ipython",
    "version": 3
   },
   "file_extension": ".py",
   "mimetype": "text/x-python",
   "name": "python",
   "nbconvert_exporter": "python",
   "pygments_lexer": "ipython3",
   "version": "3.7.3"
  }
 },
 "nbformat": 4,
 "nbformat_minor": 2
}
