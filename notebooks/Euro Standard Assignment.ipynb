{
 "cells": [
  {
   "cell_type": "code",
   "execution_count": 8,
   "metadata": {},
   "outputs": [],
   "source": [
    "import random\n",
    "import pandas as pd\n",
    "import xml.etree.ElementTree as ET"
   ]
  },
  {
   "cell_type": "code",
   "execution_count": 2,
   "metadata": {},
   "outputs": [],
   "source": [
    "trucks = pd.read_csv('/home/andres/Documents/TruckVIMs/Output/truck_database.csv')"
   ]
  },
  {
   "cell_type": "code",
   "execution_count": 13,
   "metadata": {},
   "outputs": [],
   "source": [
    "selection_weights = trucks['Estandar_Euro'].value_counts()/trucks.shape[0]"
   ]
  },
  {
   "cell_type": "code",
   "execution_count": 10,
   "metadata": {},
   "outputs": [],
   "source": [
    "standards = trucks['Estandar_Euro'].unique().tolist()"
   ]
  },
  {
   "cell_type": "code",
   "execution_count": 11,
   "metadata": {},
   "outputs": [],
   "source": [
    "mapper = {\n",
    "    'Euro 0': 'LDV_G_EU0',\n",
    "    'Euro 1': 'LDV_G_EU1',\n",
    "    'Euro 2': 'LDV_G_EU2',\n",
    "    'Euro 3': 'LDV_G_EU3',\n",
    "    'Euro 4': 'LDV_G_EU4',\n",
    "    'Euro 5': 'LDV_G_EU5',\n",
    "    'Euro 6': 'LDV_G_EU6',\n",
    "}"
   ]
  },
  {
   "cell_type": "code",
   "execution_count": 33,
   "metadata": {},
   "outputs": [
    {
     "data": {
      "text/plain": [
       "['Euro 3', 'Euro 5', 'Euro 4', 'Euro 2', 'Euro 1', 'Euro 6']"
      ]
     },
     "execution_count": 33,
     "metadata": {},
     "output_type": "execute_result"
    }
   ],
   "source": [
    "trucks['Estandar_Euro'].unique().tolist()"
   ]
  },
  {
   "cell_type": "code",
   "execution_count": 34,
   "metadata": {},
   "outputs": [],
   "source": [
    "standards = ['truck_truck_E3',\n",
    "             'truck_truck_E5',\n",
    "            'truck_truck_E4',\n",
    "            'truck_truck_E2',\n",
    "            'truck_truck_E1',\n",
    "            'truck_truck_E6',]"
   ]
  },
  {
   "cell_type": "code",
   "execution_count": 15,
   "metadata": {},
   "outputs": [],
   "source": [
    "choice_weights = [selection_weights[s] for s in standards]"
   ]
  },
  {
   "cell_type": "code",
   "execution_count": 35,
   "metadata": {},
   "outputs": [
    {
     "data": {
      "text/plain": [
       "[0.04755244755244755,\n",
       " 0.46293706293706294,\n",
       " 0.12937062937062938,\n",
       " 0.044055944055944055,\n",
       " 0.013986013986013986,\n",
       " 0.3020979020979021]"
      ]
     },
     "execution_count": 35,
     "metadata": {},
     "output_type": "execute_result"
    }
   ],
   "source": [
    "choice_weights"
   ]
  },
  {
   "cell_type": "code",
   "execution_count": 18,
   "metadata": {},
   "outputs": [
    {
     "data": {
      "text/plain": [
       "Euro 5    0.462937\n",
       "Euro 6    0.302098\n",
       "Euro 4    0.129371\n",
       "Euro 3    0.047552\n",
       "Euro 2    0.044056\n",
       "Euro 1    0.013986\n",
       "Name: Estandar_Euro, dtype: float64"
      ]
     },
     "execution_count": 18,
     "metadata": {},
     "output_type": "execute_result"
    }
   ],
   "source": [
    "selection_weights"
   ]
  },
  {
   "cell_type": "code",
   "execution_count": 36,
   "metadata": {},
   "outputs": [
    {
     "data": {
      "text/plain": [
       "['truck_truck_E5']"
      ]
     },
     "execution_count": 36,
     "metadata": {},
     "output_type": "execute_result"
    }
   ],
   "source": [
    "random.choices(standards, choice_weights)"
   ]
  },
  {
   "cell_type": "code",
   "execution_count": 44,
   "metadata": {},
   "outputs": [],
   "source": [
    "def generate_xml_trucks(path):\n",
    "    tree = ET.parse(path)\n",
    "    root = tree.getroot()\n",
    "    for child in root:\n",
    "        if child.tag == 'trip':\n",
    "            child.set('type', random.choices(standards, choice_weights)[0])\n",
    "    tree.write(path)\n",
    "    print('Done')"
   ]
  },
  {
   "cell_type": "code",
   "execution_count": 45,
   "metadata": {},
   "outputs": [],
   "source": [
    "paths = [\n",
    "    '../sumo_simulation/sim_config/km2_centro/scenario/osm.truck.trips.xml',\n",
    "    '../sumo_simulation/sim_config/km2_centro_2/scenario/osm.truck.trips.xml',\n",
    "    '../sumo_simulation/sim_config/km2_jesusmaria/scenario/osm.truck.trips.xml',\n",
    "    '../sumo_simulation/sim_config/km2_lince/scenario/osm.truck.trips.xml',\n",
    "    '../sumo_simulation/sim_config/km2_miraflores/scenario/osm.truck.trips.xml',\n",
    "    '../sumo_simulation/sim_config/km2_sani/scenario/osm.truck.trips.xml',\n",
    "]"
   ]
  },
  {
   "cell_type": "code",
   "execution_count": 46,
   "metadata": {},
   "outputs": [
    {
     "name": "stdout",
     "output_type": "stream",
     "text": [
      "Done\n",
      "Done\n",
      "Done\n",
      "Done\n",
      "Done\n",
      "Done\n"
     ]
    }
   ],
   "source": [
    "for path in paths:\n",
    "    generate_xml_trucks(path)"
   ]
  },
  {
   "cell_type": "code",
   "execution_count": 47,
   "metadata": {},
   "outputs": [],
   "source": [
    "pc = ['veh_passenger_E4', 'veh_passenger_E5', 'veh_passenger_E6']"
   ]
  },
  {
   "cell_type": "code",
   "execution_count": 52,
   "metadata": {},
   "outputs": [],
   "source": [
    "def generate_xml_passenger(path):\n",
    "    tree = ET.parse(path)\n",
    "    root = tree.getroot()\n",
    "    for child in root:\n",
    "        if child.tag == 'trip':\n",
    "            child.set('type', random.choices(pc)[0])\n",
    "    tree.write(path)\n",
    "    print('Done')"
   ]
  },
  {
   "cell_type": "code",
   "execution_count": 53,
   "metadata": {},
   "outputs": [],
   "source": [
    "paths_pc = [\n",
    "    '../sumo_simulation/sim_config/km2_centro/scenario/osm.passenger.trips.xml',\n",
    "    '../sumo_simulation/sim_config/km2_centro_2/scenario/osm.passenger.trips.xml',\n",
    "    '../sumo_simulation/sim_config/km2_jesusmaria/scenario/osm.passenger.trips.xml',\n",
    "    '../sumo_simulation/sim_config/km2_lince/scenario/osm.passenger.trips.xml',\n",
    "    '../sumo_simulation/sim_config/km2_miraflores/scenario/osm.passenger.trips.xml',\n",
    "    '../sumo_simulation/sim_config/km2_sani/scenario/osm.passenger.trips.xml',\n",
    "]"
   ]
  },
  {
   "cell_type": "code",
   "execution_count": 54,
   "metadata": {},
   "outputs": [
    {
     "name": "stdout",
     "output_type": "stream",
     "text": [
      "Done\n",
      "Done\n",
      "Done\n",
      "Done\n",
      "Done\n",
      "Done\n"
     ]
    }
   ],
   "source": [
    "for path in paths_pc:\n",
    "    generate_xml_passenger(path)"
   ]
  },
  {
   "cell_type": "code",
   "execution_count": null,
   "metadata": {},
   "outputs": [],
   "source": []
  }
 ],
 "metadata": {
  "@webio": {
   "lastCommId": "0e486c630c0645ca8d02581aec25dd76",
   "lastKernelId": "0c112b91-dd17-47e8-8d3d-4c6a2923b138"
  },
  "kernelspec": {
   "display_name": "Python 3",
   "language": "python",
   "name": "python3"
  },
  "language_info": {
   "codemirror_mode": {
    "name": "ipython",
    "version": 3
   },
   "file_extension": ".py",
   "mimetype": "text/x-python",
   "name": "python",
   "nbconvert_exporter": "python",
   "pygments_lexer": "ipython3",
   "version": "3.7.0"
  }
 },
 "nbformat": 4,
 "nbformat_minor": 2
}
