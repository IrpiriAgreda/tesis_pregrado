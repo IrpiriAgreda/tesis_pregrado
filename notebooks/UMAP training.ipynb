{
 "cells": [
  {
   "cell_type": "code",
   "execution_count": 1,
   "metadata": {},
   "outputs": [],
   "source": [
    "import _pickle as cPickle\n",
    "import city_simulation\n",
    "import gym\n",
    "import random\n",
    "import torch\n",
    "from umap import UMAP\n",
    "from sklearn.decomposition import PCA"
   ]
  },
  {
   "cell_type": "markdown",
   "metadata": {},
   "source": [
    "pca_2 = cPickle.load(open('../sumo_simulation/input/pca_v2.pkl','rb'))"
   ]
  },
  {
   "cell_type": "code",
   "execution_count": 2,
   "metadata": {},
   "outputs": [],
   "source": [
    "import numpy as np"
   ]
  },
  {
   "cell_type": "code",
   "execution_count": 8,
   "metadata": {},
   "outputs": [],
   "source": [
    "import os, sys\n",
    "\n",
    "if 'SUMO_HOME' in os.environ:\n",
    "    tools = os.path.join(os.environ['SUMO_HOME'], 'tools')\n",
    "    sys.path.append(tools)\n",
    "else:\n",
    "    sys.exit(\"please declare environment variable 'SUMO_HOME'\")\n",
    "\n",
    "import traci"
   ]
  },
  {
   "cell_type": "code",
   "execution_count": 4,
   "metadata": {},
   "outputs": [],
   "source": [
    "sumoBinary = \"/usr/bin/sumo/bin/sumo\""
   ]
  },
  {
   "cell_type": "code",
   "execution_count": 5,
   "metadata": {},
   "outputs": [],
   "source": [
    "path_list = [\n",
    "    \"../sumo_simulation/sim_config/km2_centro/scenario/osm.sumocfg\",\n",
    "    \"../sumo_simulation/sim_config/km2_centro_2/scenario/osm.sumocfg\",\n",
    "    \"../sumo_simulation/sim_config/km2_jesusmaria/scenario/osm.sumocfg\",\n",
    "    \"../sumo_simulation/sim_config/km2_lince/scenario/osm.sumocfg\",\n",
    "    \"../sumo_simulation/sim_config/km2_miraflores/scenario/osm.sumocfg\",\n",
    "    \"../sumo_simulation/sim_config/km2_sani/scenario/osm.sumocfg\"\n",
    "]"
   ]
  },
  {
   "cell_type": "code",
   "execution_count": 9,
   "metadata": {},
   "outputs": [],
   "source": [
    "def run_day_sim(path):\n",
    "    sumoCmd = [sumoBinary, \"-c\", path]\n",
    "    traci.start(sumoCmd)\n",
    "\n",
    "    for edge_id in traci.lane.getIDList():\n",
    "        traci.lane.subscribe(edge_id, [traci.constants.VAR_CO2EMISSION,\n",
    "                                       traci.constants.VAR_COEMISSION,\n",
    "                                       traci.constants.VAR_PMXEMISSION,\n",
    "                                       traci.constants.VAR_NOXEMISSION,\n",
    "                                       traci.constants.VAR_NOISEEMISSION,\n",
    "                                       traci.constants.VAR_FUELCONSUMPTION])\n",
    "    \n",
    "    traci.simulationStep(500)    \n",
    "    subscriptions = traci.lane.getAllSubscriptionResults()\n",
    "    traci.close(False)\n",
    "    return subscriptions"
   ]
  },
  {
   "cell_type": "code",
   "execution_count": 12,
   "metadata": {},
   "outputs": [
    {
     "name": "stdout",
     "output_type": "stream",
     "text": [
      " Retrying in 1 seconds\n",
      " Retrying in 1 seconds\n",
      " Retrying in 1 seconds\n",
      " Retrying in 1 seconds\n",
      " Retrying in 1 seconds\n",
      " Retrying in 1 seconds\n"
     ]
    }
   ],
   "source": [
    "states = [run_day_sim(path) for path in path_list]"
   ]
  },
  {
   "cell_type": "code",
   "execution_count": 13,
   "metadata": {},
   "outputs": [],
   "source": [
    "import pandas as pd"
   ]
  },
  {
   "cell_type": "code",
   "execution_count": 14,
   "metadata": {},
   "outputs": [],
   "source": [
    "states = [pd.DataFrame.from_dict(state) for state in states]"
   ]
  },
  {
   "cell_type": "code",
   "execution_count": 15,
   "metadata": {
    "scrolled": true
   },
   "outputs": [
    {
     "name": "stderr",
     "output_type": "stream",
     "text": [
      "/home/andres/anaconda3/envs/pytorch/lib/python3.7/site-packages/umap/umap_.py:1385: UserWarning: n_neighbors is larger than the dataset size; truncating to X.shape[0] - 1\n",
      "  \"n_neighbors is larger than the dataset size; truncating to \"\n",
      "/home/andres/anaconda3/envs/pytorch/lib/python3.7/site-packages/umap/umap_.py:349: NumbaWarning: \n",
      "Compilation is falling back to object mode WITH looplifting enabled because Function \"fuzzy_simplicial_set\" failed type inference due to: Untyped global name 'nearest_neighbors': cannot determine Numba type of <class 'function'>\n",
      "\n",
      "File \"../../../anaconda3/envs/pytorch/lib/python3.7/site-packages/umap/umap_.py\", line 467:\n",
      "def fuzzy_simplicial_set(\n",
      "    <source elided>\n",
      "    if knn_indices is None or knn_dists is None:\n",
      "        knn_indices, knn_dists, _ = nearest_neighbors(\n",
      "        ^\n",
      "\n",
      "  @numba.jit()\n",
      "/home/andres/anaconda3/envs/pytorch/lib/python3.7/site-packages/numba/compiler.py:725: NumbaWarning: Function \"fuzzy_simplicial_set\" was compiled in object mode without forceobj=True.\n",
      "\n",
      "File \"../../../anaconda3/envs/pytorch/lib/python3.7/site-packages/umap/umap_.py\", line 350:\n",
      "@numba.jit()\n",
      "def fuzzy_simplicial_set(\n",
      "^\n",
      "\n",
      "  self.func_ir.loc))\n",
      "/home/andres/anaconda3/envs/pytorch/lib/python3.7/site-packages/numba/compiler.py:734: NumbaDeprecationWarning: \n",
      "Fall-back from the nopython compilation path to the object mode compilation path has been detected, this is deprecated behaviour.\n",
      "\n",
      "For more information visit http://numba.pydata.org/numba-doc/latest/reference/deprecation.html#deprecation-of-object-mode-fall-back-behaviour-when-using-jit\n",
      "\n",
      "File \"../../../anaconda3/envs/pytorch/lib/python3.7/site-packages/umap/umap_.py\", line 350:\n",
      "@numba.jit()\n",
      "def fuzzy_simplicial_set(\n",
      "^\n",
      "\n",
      "  warnings.warn(errors.NumbaDeprecationWarning(msg, self.func_ir.loc))\n",
      "/home/andres/anaconda3/envs/pytorch/lib/python3.7/site-packages/umap/umap_.py:1385: UserWarning: n_neighbors is larger than the dataset size; truncating to X.shape[0] - 1\n",
      "  \"n_neighbors is larger than the dataset size; truncating to \"\n",
      "/home/andres/anaconda3/envs/pytorch/lib/python3.7/site-packages/umap/umap_.py:1385: UserWarning: n_neighbors is larger than the dataset size; truncating to X.shape[0] - 1\n",
      "  \"n_neighbors is larger than the dataset size; truncating to \"\n",
      "/home/andres/anaconda3/envs/pytorch/lib/python3.7/site-packages/umap/umap_.py:1385: UserWarning: n_neighbors is larger than the dataset size; truncating to X.shape[0] - 1\n",
      "  \"n_neighbors is larger than the dataset size; truncating to \"\n",
      "/home/andres/anaconda3/envs/pytorch/lib/python3.7/site-packages/umap/umap_.py:1385: UserWarning: n_neighbors is larger than the dataset size; truncating to X.shape[0] - 1\n",
      "  \"n_neighbors is larger than the dataset size; truncating to \"\n",
      "/home/andres/anaconda3/envs/pytorch/lib/python3.7/site-packages/umap/umap_.py:1385: UserWarning: n_neighbors is larger than the dataset size; truncating to X.shape[0] - 1\n",
      "  \"n_neighbors is larger than the dataset size; truncating to \"\n"
     ]
    }
   ],
   "source": [
    "us = [UMAP(n_components=2).fit(state) for state in states]"
   ]
  },
  {
   "cell_type": "code",
   "execution_count": 18,
   "metadata": {},
   "outputs": [],
   "source": [
    "import _pickle as cPickle"
   ]
  },
  {
   "cell_type": "code",
   "execution_count": 19,
   "metadata": {},
   "outputs": [],
   "source": [
    "zones = ['km2_centro',\n",
    "        'km2_centro_2',\n",
    "        'km2_jesusmaria',\n",
    "        'km2_lince',\n",
    "        'km2_miraflores',\n",
    "        'km2_sani']\n",
    "\n",
    "for i, u in enumerate(us):\n",
    "    cPickle.dump(u, open('../sumo_simulation/input/umap_{}.pkl'.format(zones[i]), 'wb'))"
   ]
  },
  {
   "cell_type": "code",
   "execution_count": null,
   "metadata": {},
   "outputs": [],
   "source": []
  }
 ],
 "metadata": {
  "@webio": {
   "lastCommId": "bcf76e18a3ce41dba3c4c9154b816af2",
   "lastKernelId": "1528d854-b6f6-4129-8b14-15d415d0c484"
  },
  "kernelspec": {
   "display_name": "Python 3",
   "language": "python",
   "name": "python3"
  },
  "language_info": {
   "codemirror_mode": {
    "name": "ipython",
    "version": 3
   },
   "file_extension": ".py",
   "mimetype": "text/x-python",
   "name": "python",
   "nbconvert_exporter": "python",
   "pygments_lexer": "ipython3",
   "version": "3.7.2"
  }
 },
 "nbformat": 4,
 "nbformat_minor": 2
}
